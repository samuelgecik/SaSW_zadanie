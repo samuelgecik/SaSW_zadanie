{
 "cells": [
  {
   "cell_type": "code",
   "execution_count": 1,
   "metadata": {},
   "outputs": [],
   "source": [
    "from collect_data import *\n",
    "from analysis import *\n",
    "from datasets import *\n",
    "from consts import *\n",
    "import pandas as pd\n"
   ]
  },
  {
   "attachments": {},
   "cell_type": "markdown",
   "metadata": {},
   "source": [
    "### Data collection"
   ]
  },
  {
   "cell_type": "code",
   "execution_count": 2,
   "metadata": {},
   "outputs": [],
   "source": [
    "vdb = datasets.VideoDatabase(consts.VIDEOS_CSV)\n",
    "vdb.load_from_csv()"
   ]
  },
  {
   "attachments": {},
   "cell_type": "markdown",
   "metadata": {},
   "source": [
    "### Download data from YouTube"
   ]
  },
  {
   "cell_type": "code",
   "execution_count": 3,
   "metadata": {},
   "outputs": [],
   "source": [
    "# # Run this cell only if you want to fetch new data\n",
    "# channel_ids = consts.CHANNEL_IDS\n",
    "\n",
    "# videos_per_channel = 20\n",
    "# comment_pages_per_video = 10\n",
    "\n",
    "# for channel in channel_ids:\n",
    "#     videos = get_videos_from_channel(channel, videos_per_channel)\n",
    "#     for video in videos:\n",
    "#         get_comments_from_video(video, comment_pages_per_video)"
   ]
  },
  {
   "attachments": {},
   "cell_type": "markdown",
   "metadata": {},
   "source": [
    "### Synchronize old data with the new"
   ]
  },
  {
   "cell_type": "code",
   "execution_count": 4,
   "metadata": {},
   "outputs": [],
   "source": [
    "vdb.sync_comments_file(consts.COMMENTS_CSV)"
   ]
  },
  {
   "attachments": {},
   "cell_type": "markdown",
   "metadata": {},
   "source": [
    "## Analysis"
   ]
  },
  {
   "attachments": {},
   "cell_type": "markdown",
   "metadata": {},
   "source": [
    "#### Prepair the data frame for further analysis"
   ]
  },
  {
   "cell_type": "code",
   "execution_count": 5,
   "metadata": {},
   "outputs": [],
   "source": [
    "vdb = datasets.VideoDatabase(consts.VIDEOS_CSV)\n",
    "vdb.load_from_csv()\n",
    "vdb.sync_comments_file(consts.COMMENTS_CSV)\n",
    "\n",
    "df = pd.read_csv(\"comments.csv\", usecols=consts.COMMENT_COLS, lineterminator=\"\\n\")\n",
    "df[\"channelName\"] = df[\"videoId\"].apply(vdb.videoId_to_channelName)\n",
    "df[\"channelId\"] = df[\"channelName\"].apply(vdb.channelName_to_channelId)"
   ]
  },
  {
   "attachments": {},
   "cell_type": "markdown",
   "metadata": {},
   "source": [
    "#### Plot the most prolific commenters from selected channels"
   ]
  },
  {
   "cell_type": "code",
   "execution_count": 6,
   "metadata": {},
   "outputs": [
    {
     "data": {
      "application/vnd.plotly.v1+json": {
       "config": {
        "plotlyServerURL": "https://plot.ly"
       },
       "data": [
        {
         "alignmentgroup": "True",
         "customdata": [
          [
           "Love you Joe Biden",
           1,
           "CNN",
           "2023-01-15T19:20:25Z",
           "Wajiha Sethi",
           "UC0UbVaelFT_Z3Yh8D9ofxJQ"
          ],
          [
           "U need water",
           0,
           "CNN",
           "2023-01-15T19:20:49Z",
           "Wajiha Sethi",
           "UC0UbVaelFT_Z3Yh8D9ofxJQ"
          ],
          [
           "Have u ever tried Johar joshanda",
           0,
           "CNN",
           "2023-01-15T19:21:07Z",
           "Wajiha Sethi",
           "UC0UbVaelFT_Z3Yh8D9ofxJQ"
          ],
          [
           "Try ZamZam",
           0,
           "CNN",
           "2023-01-15T19:21:27Z",
           "Wajiha Sethi",
           "UC0UbVaelFT_Z3Yh8D9ofxJQ"
          ],
          [
           "Allàh u Albar",
           0,
           "CNN",
           "2023-01-15T19:21:43Z",
           "Wajiha Sethi",
           "UC0UbVaelFT_Z3Yh8D9ofxJQ"
          ],
          [
           "Labaik",
           0,
           "CNN",
           "2023-01-15T19:21:49Z",
           "Wajiha Sethi",
           "UC0UbVaelFT_Z3Yh8D9ofxJQ"
          ],
          [
           "jazakAllah kher",
           0,
           "CNN",
           "2023-01-15T19:21:58Z",
           "Wajiha Sethi",
           "UC0UbVaelFT_Z3Yh8D9ofxJQ"
          ],
          [
           "Madina",
           0,
           "CNN",
           "2023-01-15T19:22:04Z",
           "Wajiha Sethi",
           "UC0UbVaelFT_Z3Yh8D9ofxJQ"
          ],
          [
           "Medina the prophet Ibrahim AS and Jesus Christ and",
           0,
           "CNN",
           "2023-01-15T19:22:47Z",
           "Wajiha Sethi",
           "UC0UbVaelFT_Z3Yh8D9ofxJQ"
          ],
          [
           "HasbiAllahi",
           0,
           "CNN",
           "2023-01-15T19:23:15Z",
           "Wajiha Sethi",
           "UC0UbVaelFT_Z3Yh8D9ofxJQ"
          ],
          [
           "Allah give strength to Sir Joe Biden Ameen",
           1,
           "CNN",
           "2023-01-15T19:23:41Z",
           "Wajiha Sethi",
           "UC0UbVaelFT_Z3Yh8D9ofxJQ"
          ],
          [
           "I love u",
           1,
           "CNN",
           "2023-01-15T19:23:47Z",
           "Wajiha Sethi",
           "UC0UbVaelFT_Z3Yh8D9ofxJQ"
          ],
          [
           "I love u more",
           1,
           "CNN",
           "2023-01-15T19:23:55Z",
           "Wajiha Sethi",
           "UC0UbVaelFT_Z3Yh8D9ofxJQ"
          ],
          [
           "The president for peace",
           2,
           "CNN",
           "2023-01-15T19:24:18Z",
           "Wajiha Sethi",
           "UC0UbVaelFT_Z3Yh8D9ofxJQ"
          ],
          [
           "Ended all wars",
           0,
           "CNN",
           "2023-01-15T19:24:25Z",
           "Wajiha Sethi",
           "UC0UbVaelFT_Z3Yh8D9ofxJQ"
          ],
          [
           "Epix",
           0,
           "CNN",
           "2023-01-15T19:24:30Z",
           "Wajiha Sethi",
           "UC0UbVaelFT_Z3Yh8D9ofxJQ"
          ],
          [
           "End of badness",
           0,
           "CNN",
           "2023-01-15T19:24:38Z",
           "Wajiha Sethi",
           "UC0UbVaelFT_Z3Yh8D9ofxJQ"
          ],
          [
           "Forever",
           0,
           "CNN",
           "2023-01-15T19:24:45Z",
           "Wajiha Sethi",
           "UC0UbVaelFT_Z3Yh8D9ofxJQ"
          ],
          [
           "Mecca",
           0,
           "CNN",
           "2023-01-15T19:24:52Z",
           "Wajiha Sethi",
           "UC0UbVaelFT_Z3Yh8D9ofxJQ"
          ],
          [
           "Free tocket",
           0,
           "CNN",
           "2023-01-15T19:24:59Z",
           "Wajiha Sethi",
           "UC0UbVaelFT_Z3Yh8D9ofxJQ"
          ],
          [
           "Jerusalem",
           0,
           "CNN",
           "2023-01-15T19:25:05Z",
           "Wajiha Sethi",
           "UC0UbVaelFT_Z3Yh8D9ofxJQ"
          ],
          [
           "Elahi, Elohim",
           0,
           "CNN",
           "2023-01-15T19:25:20Z",
           "Wajiha Sethi",
           "UC0UbVaelFT_Z3Yh8D9ofxJQ"
          ],
          [
           "Shalom",
           0,
           "CNN",
           "2023-01-15T19:25:25Z",
           "Wajiha Sethi",
           "UC0UbVaelFT_Z3Yh8D9ofxJQ"
          ],
          [
           "Shalom",
           1,
           "CNN",
           "2023-01-15T19:25:31Z",
           "Wajiha Sethi",
           "UC0UbVaelFT_Z3Yh8D9ofxJQ"
          ],
          [
           "Hallelujah",
           6,
           "CNN",
           "2023-01-15T19:25:38Z",
           "Wajiha Sethi",
           "UC0UbVaelFT_Z3Yh8D9ofxJQ"
          ],
          [
           "Temple of Solomon",
           0,
           "CNN",
           "2023-01-15T19:25:46Z",
           "Wajiha Sethi",
           "UC0UbVaelFT_Z3Yh8D9ofxJQ"
          ],
          [
           "Holy forever",
           0,
           "CNN",
           "2023-01-15T19:26:01Z",
           "Wajiha Sethi",
           "UC0UbVaelFT_Z3Yh8D9ofxJQ"
          ],
          [
           "Earth and children are holy",
           0,
           "CNN",
           "2023-01-15T19:26:12Z",
           "Wajiha Sethi",
           "UC0UbVaelFT_Z3Yh8D9ofxJQ"
          ],
          [
           "Joe Biden is my relationship blood wise",
           0,
           "CNN",
           "2023-01-15T19:26:32Z",
           "Wajiha Sethi",
           "UC0UbVaelFT_Z3Yh8D9ofxJQ"
          ],
          [
           "This is my guy",
           2,
           "CNN",
           "2023-01-15T19:26:43Z",
           "Wajiha Sethi",
           "UC0UbVaelFT_Z3Yh8D9ofxJQ"
          ],
          [
           "Jesus'Christ",
           1,
           "CNN",
           "2023-01-15T19:27:09Z",
           "Wajiha Sethi",
           "UC0UbVaelFT_Z3Yh8D9ofxJQ"
          ],
          [
           "Yellowman from Church my baby would grab",
           0,
           "CNN",
           "2023-01-15T19:27:37Z",
           "Wajiha Sethi",
           "UC0UbVaelFT_Z3Yh8D9ofxJQ"
          ],
          [
           "You guy",
           0,
           "CNN",
           "2023-01-15T19:27:49Z",
           "Wajiha Sethi",
           "UC0UbVaelFT_Z3Yh8D9ofxJQ"
          ],
          [
           "Who is that Mariah Carey",
           0,
           "CNN",
           "2023-01-15T19:28:15Z",
           "Wajiha Sethi",
           "UC0UbVaelFT_Z3Yh8D9ofxJQ"
          ],
          [
           "There's a hero",
           5,
           "CNN",
           "2023-01-15T19:28:21Z",
           "Wajiha Sethi",
           "UC0UbVaelFT_Z3Yh8D9ofxJQ"
          ],
          [
           "U lost n won",
           0,
           "CNN",
           "2023-01-15T19:28:37Z",
           "Wajiha Sethi",
           "UC0UbVaelFT_Z3Yh8D9ofxJQ"
          ],
          [
           "Ameen",
           1,
           "CNN",
           "2023-01-15T19:28:49Z",
           "Wajiha Sethi",
           "UC0UbVaelFT_Z3Yh8D9ofxJQ"
          ],
          [
           "USA is Muslim shariah law",
           0,
           "CNN",
           "2023-01-15T19:28:59Z",
           "Wajiha Sethi",
           "UC0UbVaelFT_Z3Yh8D9ofxJQ"
          ],
          [
           "Go to Makkah",
           0,
           "CNN",
           "2023-01-15T19:29:08Z",
           "Wajiha Sethi",
           "UC0UbVaelFT_Z3Yh8D9ofxJQ"
          ],
          [
           "Please",
           0,
           "CNN",
           "2023-01-15T19:29:12Z",
           "Wajiha Sethi",
           "UC0UbVaelFT_Z3Yh8D9ofxJQ"
          ],
          [
           "Ishmael's",
           0,
           "CNN",
           "2023-01-15T19:29:20Z",
           "Wajiha Sethi",
           "UC0UbVaelFT_Z3Yh8D9ofxJQ"
          ],
          [
           "Children's are a blessing of God",
           2,
           "CNN",
           "2023-01-15T19:29:30Z",
           "Wajiha Sethi",
           "UC0UbVaelFT_Z3Yh8D9ofxJQ"
          ],
          [
           "Isaacy",
           0,
           "CNN",
           "2023-01-15T19:30:10Z",
           "Wajiha Sethi",
           "UC0UbVaelFT_Z3Yh8D9ofxJQ"
          ],
          [
           "U need a cup of tea sir",
           0,
           "CNN",
           "2023-01-15T19:30:26Z",
           "Wajiha Sethi",
           "UC0UbVaelFT_Z3Yh8D9ofxJQ"
          ],
          [
           "I want u to explore Johar joshanda",
           0,
           "CNN",
           "2023-01-15T19:30:38Z",
           "Wajiha Sethi",
           "UC0UbVaelFT_Z3Yh8D9ofxJQ"
          ],
          [
           "Indian Pakistani thingy",
           0,
           "CNN",
           "2023-01-15T19:30:48Z",
           "Wajiha Sethi",
           "UC0UbVaelFT_Z3Yh8D9ofxJQ"
          ],
          [
           "Ur lovely",
           0,
           "CNN",
           "2023-01-15T19:30:56Z",
           "Wajiha Sethi",
           "UC0UbVaelFT_Z3Yh8D9ofxJQ"
          ],
          [
           "Innocent",
           0,
           "CNN",
           "2023-01-15T19:31:00Z",
           "Wajiha Sethi",
           "UC0UbVaelFT_Z3Yh8D9ofxJQ"
          ],
          [
           "No need for mikitary",
           0,
           "CNN",
           "2023-01-15T19:31:08Z",
           "Wajiha Sethi",
           "UC0UbVaelFT_Z3Yh8D9ofxJQ"
          ],
          [
           "No weapons. Ask hanz milker",
           0,
           "CNN",
           "2023-01-15T19:31:23Z",
           "Wajiha Sethi",
           "UC0UbVaelFT_Z3Yh8D9ofxJQ"
          ],
          [
           "Please dump nuclear missiles",
           0,
           "CNN",
           "2023-01-15T19:31:36Z",
           "Wajiha Sethi",
           "UC0UbVaelFT_Z3Yh8D9ofxJQ"
          ],
          [
           "In forest",
           0,
           "CNN",
           "2023-01-15T19:31:44Z",
           "Wajiha Sethi",
           "UC0UbVaelFT_Z3Yh8D9ofxJQ"
          ],
          [
           "In sea",
           0,
           "CNN",
           "2023-01-15T19:31:49Z",
           "Wajiha Sethi",
           "UC0UbVaelFT_Z3Yh8D9ofxJQ"
          ],
          [
           "Uranium",
           0,
           "CNN",
           "2023-01-15T19:31:53Z",
           "Wajiha Sethi",
           "UC0UbVaelFT_Z3Yh8D9ofxJQ"
          ],
          [
           "End all wars",
           0,
           "CNN",
           "2023-01-15T19:32:02Z",
           "Wajiha Sethi",
           "UC0UbVaelFT_Z3Yh8D9ofxJQ"
          ],
          [
           "End all wars",
           0,
           "CNN",
           "2023-01-15T19:32:08Z",
           "Wajiha Sethi",
           "UC0UbVaelFT_Z3Yh8D9ofxJQ"
          ],
          [
           "Children dying",
           0,
           "CNN",
           "2023-01-15T19:32:15Z",
           "Wajiha Sethi",
           "UC0UbVaelFT_Z3Yh8D9ofxJQ"
          ],
          [
           "U need Johar joshanda",
           0,
           "CNN",
           "2023-01-15T19:32:25Z",
           "Wajiha Sethi",
           "UC0UbVaelFT_Z3Yh8D9ofxJQ"
          ],
          [
           "U are sick",
           0,
           "CNN",
           "2023-01-15T19:32:32Z",
           "Wajiha Sethi",
           "UC0UbVaelFT_Z3Yh8D9ofxJQ"
          ],
          [
           "Ill",
           0,
           "CNN",
           "2023-01-15T19:32:35Z",
           "Wajiha Sethi",
           "UC0UbVaelFT_Z3Yh8D9ofxJQ"
          ],
          [
           "U are awsomeness",
           0,
           "CNN",
           "2023-01-15T19:32:50Z",
           "Wajiha Sethi",
           "UC0UbVaelFT_Z3Yh8D9ofxJQ"
          ],
          [
           "Peace day",
           1,
           "CNN",
           "2023-01-15T19:32:58Z",
           "Wajiha Sethi",
           "UC0UbVaelFT_Z3Yh8D9ofxJQ"
          ],
          [
           "All world",
           0,
           "CNN",
           "2023-01-15T19:33:03Z",
           "Wajiha Sethi",
           "UC0UbVaelFT_Z3Yh8D9ofxJQ"
          ],
          [
           "German too",
           0,
           "CNN",
           "2023-01-15T19:33:09Z",
           "Wajiha Sethi",
           "UC0UbVaelFT_Z3Yh8D9ofxJQ"
          ],
          [
           "Tell the world today",
           0,
           "CNN",
           "2023-01-15T19:33:17Z",
           "Wajiha Sethi",
           "UC0UbVaelFT_Z3Yh8D9ofxJQ"
          ],
          [
           "It's peace day really kids",
           0,
           "CNN",
           "2023-01-15T19:33:40Z",
           "Wajiha Sethi",
           "UC0UbVaelFT_Z3Yh8D9ofxJQ"
          ],
          [
           "International peace day",
           0,
           "CNN",
           "2023-01-15T19:33:51Z",
           "Wajiha Sethi",
           "UC0UbVaelFT_Z3Yh8D9ofxJQ"
          ],
          [
           "Christmas time",
           0,
           "CNN",
           "2023-01-15T19:33:58Z",
           "Wajiha Sethi",
           "UC0UbVaelFT_Z3Yh8D9ofxJQ"
          ],
          [
           "World will love u",
           1,
           "CNN",
           "2023-01-15T19:34:06Z",
           "Wajiha Sethi",
           "UC0UbVaelFT_Z3Yh8D9ofxJQ"
          ],
          [
           "Pakistan wants u",
           0,
           "CNN",
           "2023-01-15T19:34:13Z",
           "Wajiha Sethi",
           "UC0UbVaelFT_Z3Yh8D9ofxJQ"
          ],
          [
           "India tashan",
           0,
           "CNN",
           "2023-01-15T19:34:20Z",
           "Wajiha Sethi",
           "UC0UbVaelFT_Z3Yh8D9ofxJQ"
          ],
          [
           "Khan",
           0,
           "CNN",
           "2023-01-15T19:34:25Z",
           "Wajiha Sethi",
           "UC0UbVaelFT_Z3Yh8D9ofxJQ"
          ],
          [
           "Who is khan",
           0,
           "CNN",
           "2023-01-15T19:34:33Z",
           "Wajiha Sethi",
           "UC0UbVaelFT_Z3Yh8D9ofxJQ"
          ],
          [
           "I love you",
           2,
           "CNN",
           "2023-01-15T19:34:44Z",
           "Wajiha Sethi",
           "UC0UbVaelFT_Z3Yh8D9ofxJQ"
          ],
          [
           "To Him we belong and to Him we shall receive",
           1,
           "CNN",
           "2023-01-15T19:35:29Z",
           "Wajiha Sethi",
           "UC0UbVaelFT_Z3Yh8D9ofxJQ"
          ],
          [
           "I am not sleepy atm",
           1,
           "CNN",
           "2023-01-15T19:41:40Z",
           "Wajiha Sethi",
           "UC0UbVaelFT_Z3Yh8D9ofxJQ"
          ]
         ],
         "hovertemplate": "videoId=kDaEwJfUJAE<br>time=%{x}<br>count=%{y}<br>summ=%{customdata[0]}<br>likeCount=%{customdata[1]}<br>channelName=%{customdata[2]}<br>publishedAt=%{customdata[3]}<br>authorDisplayName=%{customdata[4]}<br>authorChannelId=%{customdata[5]}<extra></extra>",
         "legendgroup": "kDaEwJfUJAE",
         "marker": {
          "color": "#636efa",
          "pattern": {
           "shape": ""
          }
         },
         "name": "kDaEwJfUJAE",
         "offsetgroup": "kDaEwJfUJAE",
         "orientation": "v",
         "showlegend": true,
         "textposition": "auto",
         "type": "bar",
         "x": [
          "2023-01-15T19:00:00+00:00",
          "2023-01-15T19:00:00+00:00",
          "2023-01-15T19:00:00+00:00",
          "2023-01-15T19:00:00+00:00",
          "2023-01-15T19:00:00+00:00",
          "2023-01-15T19:00:00+00:00",
          "2023-01-15T19:00:00+00:00",
          "2023-01-15T19:00:00+00:00",
          "2023-01-15T19:00:00+00:00",
          "2023-01-15T19:00:00+00:00",
          "2023-01-15T19:00:00+00:00",
          "2023-01-15T19:00:00+00:00",
          "2023-01-15T19:00:00+00:00",
          "2023-01-15T19:00:00+00:00",
          "2023-01-15T19:00:00+00:00",
          "2023-01-15T19:00:00+00:00",
          "2023-01-15T19:00:00+00:00",
          "2023-01-15T19:00:00+00:00",
          "2023-01-15T19:00:00+00:00",
          "2023-01-15T19:00:00+00:00",
          "2023-01-15T19:00:00+00:00",
          "2023-01-15T19:00:00+00:00",
          "2023-01-15T19:00:00+00:00",
          "2023-01-15T19:00:00+00:00",
          "2023-01-15T19:00:00+00:00",
          "2023-01-15T19:00:00+00:00",
          "2023-01-15T19:00:00+00:00",
          "2023-01-15T19:00:00+00:00",
          "2023-01-15T19:00:00+00:00",
          "2023-01-15T19:00:00+00:00",
          "2023-01-15T19:00:00+00:00",
          "2023-01-15T19:00:00+00:00",
          "2023-01-15T19:00:00+00:00",
          "2023-01-15T19:00:00+00:00",
          "2023-01-15T19:00:00+00:00",
          "2023-01-15T19:00:00+00:00",
          "2023-01-15T19:00:00+00:00",
          "2023-01-15T19:00:00+00:00",
          "2023-01-15T19:00:00+00:00",
          "2023-01-15T19:00:00+00:00",
          "2023-01-15T19:00:00+00:00",
          "2023-01-15T19:00:00+00:00",
          "2023-01-15T19:30:00+00:00",
          "2023-01-15T19:30:00+00:00",
          "2023-01-15T19:30:00+00:00",
          "2023-01-15T19:30:00+00:00",
          "2023-01-15T19:30:00+00:00",
          "2023-01-15T19:30:00+00:00",
          "2023-01-15T19:30:00+00:00",
          "2023-01-15T19:30:00+00:00",
          "2023-01-15T19:30:00+00:00",
          "2023-01-15T19:30:00+00:00",
          "2023-01-15T19:30:00+00:00",
          "2023-01-15T19:30:00+00:00",
          "2023-01-15T19:30:00+00:00",
          "2023-01-15T19:30:00+00:00",
          "2023-01-15T19:30:00+00:00",
          "2023-01-15T19:30:00+00:00",
          "2023-01-15T19:30:00+00:00",
          "2023-01-15T19:30:00+00:00",
          "2023-01-15T19:30:00+00:00",
          "2023-01-15T19:30:00+00:00",
          "2023-01-15T19:30:00+00:00",
          "2023-01-15T19:30:00+00:00",
          "2023-01-15T19:30:00+00:00",
          "2023-01-15T19:30:00+00:00",
          "2023-01-15T19:30:00+00:00",
          "2023-01-15T19:30:00+00:00",
          "2023-01-15T19:30:00+00:00",
          "2023-01-15T19:30:00+00:00",
          "2023-01-15T19:30:00+00:00",
          "2023-01-15T19:30:00+00:00",
          "2023-01-15T19:30:00+00:00",
          "2023-01-15T19:30:00+00:00",
          "2023-01-15T19:30:00+00:00",
          "2023-01-15T19:30:00+00:00"
         ],
         "xaxis": "x",
         "y": [
          1,
          1,
          1,
          1,
          1,
          1,
          1,
          1,
          1,
          1,
          1,
          1,
          1,
          1,
          1,
          1,
          1,
          1,
          1,
          1,
          1,
          1,
          1,
          1,
          1,
          1,
          1,
          1,
          1,
          1,
          1,
          1,
          1,
          1,
          1,
          1,
          1,
          1,
          1,
          1,
          1,
          1,
          1,
          1,
          1,
          1,
          1,
          1,
          1,
          1,
          1,
          1,
          1,
          1,
          1,
          1,
          1,
          1,
          1,
          1,
          1,
          1,
          1,
          1,
          1,
          1,
          1,
          1,
          1,
          1,
          1,
          1,
          1,
          1,
          1,
          1
         ],
         "yaxis": "y"
        }
       ],
       "layout": {
        "barmode": "relative",
        "legend": {
         "title": {
          "text": "videoId"
         },
         "tracegroupgap": 0
        },
        "margin": {
         "t": 60
        },
        "template": {
         "data": {
          "bar": [
           {
            "error_x": {
             "color": "#2a3f5f"
            },
            "error_y": {
             "color": "#2a3f5f"
            },
            "marker": {
             "line": {
              "color": "#E5ECF6",
              "width": 0.5
             },
             "pattern": {
              "fillmode": "overlay",
              "size": 10,
              "solidity": 0.2
             }
            },
            "type": "bar"
           }
          ],
          "barpolar": [
           {
            "marker": {
             "line": {
              "color": "#E5ECF6",
              "width": 0.5
             },
             "pattern": {
              "fillmode": "overlay",
              "size": 10,
              "solidity": 0.2
             }
            },
            "type": "barpolar"
           }
          ],
          "carpet": [
           {
            "aaxis": {
             "endlinecolor": "#2a3f5f",
             "gridcolor": "white",
             "linecolor": "white",
             "minorgridcolor": "white",
             "startlinecolor": "#2a3f5f"
            },
            "baxis": {
             "endlinecolor": "#2a3f5f",
             "gridcolor": "white",
             "linecolor": "white",
             "minorgridcolor": "white",
             "startlinecolor": "#2a3f5f"
            },
            "type": "carpet"
           }
          ],
          "choropleth": [
           {
            "colorbar": {
             "outlinewidth": 0,
             "ticks": ""
            },
            "type": "choropleth"
           }
          ],
          "contour": [
           {
            "colorbar": {
             "outlinewidth": 0,
             "ticks": ""
            },
            "colorscale": [
             [
              0,
              "#0d0887"
             ],
             [
              0.1111111111111111,
              "#46039f"
             ],
             [
              0.2222222222222222,
              "#7201a8"
             ],
             [
              0.3333333333333333,
              "#9c179e"
             ],
             [
              0.4444444444444444,
              "#bd3786"
             ],
             [
              0.5555555555555556,
              "#d8576b"
             ],
             [
              0.6666666666666666,
              "#ed7953"
             ],
             [
              0.7777777777777778,
              "#fb9f3a"
             ],
             [
              0.8888888888888888,
              "#fdca26"
             ],
             [
              1,
              "#f0f921"
             ]
            ],
            "type": "contour"
           }
          ],
          "contourcarpet": [
           {
            "colorbar": {
             "outlinewidth": 0,
             "ticks": ""
            },
            "type": "contourcarpet"
           }
          ],
          "heatmap": [
           {
            "colorbar": {
             "outlinewidth": 0,
             "ticks": ""
            },
            "colorscale": [
             [
              0,
              "#0d0887"
             ],
             [
              0.1111111111111111,
              "#46039f"
             ],
             [
              0.2222222222222222,
              "#7201a8"
             ],
             [
              0.3333333333333333,
              "#9c179e"
             ],
             [
              0.4444444444444444,
              "#bd3786"
             ],
             [
              0.5555555555555556,
              "#d8576b"
             ],
             [
              0.6666666666666666,
              "#ed7953"
             ],
             [
              0.7777777777777778,
              "#fb9f3a"
             ],
             [
              0.8888888888888888,
              "#fdca26"
             ],
             [
              1,
              "#f0f921"
             ]
            ],
            "type": "heatmap"
           }
          ],
          "heatmapgl": [
           {
            "colorbar": {
             "outlinewidth": 0,
             "ticks": ""
            },
            "colorscale": [
             [
              0,
              "#0d0887"
             ],
             [
              0.1111111111111111,
              "#46039f"
             ],
             [
              0.2222222222222222,
              "#7201a8"
             ],
             [
              0.3333333333333333,
              "#9c179e"
             ],
             [
              0.4444444444444444,
              "#bd3786"
             ],
             [
              0.5555555555555556,
              "#d8576b"
             ],
             [
              0.6666666666666666,
              "#ed7953"
             ],
             [
              0.7777777777777778,
              "#fb9f3a"
             ],
             [
              0.8888888888888888,
              "#fdca26"
             ],
             [
              1,
              "#f0f921"
             ]
            ],
            "type": "heatmapgl"
           }
          ],
          "histogram": [
           {
            "marker": {
             "pattern": {
              "fillmode": "overlay",
              "size": 10,
              "solidity": 0.2
             }
            },
            "type": "histogram"
           }
          ],
          "histogram2d": [
           {
            "colorbar": {
             "outlinewidth": 0,
             "ticks": ""
            },
            "colorscale": [
             [
              0,
              "#0d0887"
             ],
             [
              0.1111111111111111,
              "#46039f"
             ],
             [
              0.2222222222222222,
              "#7201a8"
             ],
             [
              0.3333333333333333,
              "#9c179e"
             ],
             [
              0.4444444444444444,
              "#bd3786"
             ],
             [
              0.5555555555555556,
              "#d8576b"
             ],
             [
              0.6666666666666666,
              "#ed7953"
             ],
             [
              0.7777777777777778,
              "#fb9f3a"
             ],
             [
              0.8888888888888888,
              "#fdca26"
             ],
             [
              1,
              "#f0f921"
             ]
            ],
            "type": "histogram2d"
           }
          ],
          "histogram2dcontour": [
           {
            "colorbar": {
             "outlinewidth": 0,
             "ticks": ""
            },
            "colorscale": [
             [
              0,
              "#0d0887"
             ],
             [
              0.1111111111111111,
              "#46039f"
             ],
             [
              0.2222222222222222,
              "#7201a8"
             ],
             [
              0.3333333333333333,
              "#9c179e"
             ],
             [
              0.4444444444444444,
              "#bd3786"
             ],
             [
              0.5555555555555556,
              "#d8576b"
             ],
             [
              0.6666666666666666,
              "#ed7953"
             ],
             [
              0.7777777777777778,
              "#fb9f3a"
             ],
             [
              0.8888888888888888,
              "#fdca26"
             ],
             [
              1,
              "#f0f921"
             ]
            ],
            "type": "histogram2dcontour"
           }
          ],
          "mesh3d": [
           {
            "colorbar": {
             "outlinewidth": 0,
             "ticks": ""
            },
            "type": "mesh3d"
           }
          ],
          "parcoords": [
           {
            "line": {
             "colorbar": {
              "outlinewidth": 0,
              "ticks": ""
             }
            },
            "type": "parcoords"
           }
          ],
          "pie": [
           {
            "automargin": true,
            "type": "pie"
           }
          ],
          "scatter": [
           {
            "fillpattern": {
             "fillmode": "overlay",
             "size": 10,
             "solidity": 0.2
            },
            "type": "scatter"
           }
          ],
          "scatter3d": [
           {
            "line": {
             "colorbar": {
              "outlinewidth": 0,
              "ticks": ""
             }
            },
            "marker": {
             "colorbar": {
              "outlinewidth": 0,
              "ticks": ""
             }
            },
            "type": "scatter3d"
           }
          ],
          "scattercarpet": [
           {
            "marker": {
             "colorbar": {
              "outlinewidth": 0,
              "ticks": ""
             }
            },
            "type": "scattercarpet"
           }
          ],
          "scattergeo": [
           {
            "marker": {
             "colorbar": {
              "outlinewidth": 0,
              "ticks": ""
             }
            },
            "type": "scattergeo"
           }
          ],
          "scattergl": [
           {
            "marker": {
             "colorbar": {
              "outlinewidth": 0,
              "ticks": ""
             }
            },
            "type": "scattergl"
           }
          ],
          "scattermapbox": [
           {
            "marker": {
             "colorbar": {
              "outlinewidth": 0,
              "ticks": ""
             }
            },
            "type": "scattermapbox"
           }
          ],
          "scatterpolar": [
           {
            "marker": {
             "colorbar": {
              "outlinewidth": 0,
              "ticks": ""
             }
            },
            "type": "scatterpolar"
           }
          ],
          "scatterpolargl": [
           {
            "marker": {
             "colorbar": {
              "outlinewidth": 0,
              "ticks": ""
             }
            },
            "type": "scatterpolargl"
           }
          ],
          "scatterternary": [
           {
            "marker": {
             "colorbar": {
              "outlinewidth": 0,
              "ticks": ""
             }
            },
            "type": "scatterternary"
           }
          ],
          "surface": [
           {
            "colorbar": {
             "outlinewidth": 0,
             "ticks": ""
            },
            "colorscale": [
             [
              0,
              "#0d0887"
             ],
             [
              0.1111111111111111,
              "#46039f"
             ],
             [
              0.2222222222222222,
              "#7201a8"
             ],
             [
              0.3333333333333333,
              "#9c179e"
             ],
             [
              0.4444444444444444,
              "#bd3786"
             ],
             [
              0.5555555555555556,
              "#d8576b"
             ],
             [
              0.6666666666666666,
              "#ed7953"
             ],
             [
              0.7777777777777778,
              "#fb9f3a"
             ],
             [
              0.8888888888888888,
              "#fdca26"
             ],
             [
              1,
              "#f0f921"
             ]
            ],
            "type": "surface"
           }
          ],
          "table": [
           {
            "cells": {
             "fill": {
              "color": "#EBF0F8"
             },
             "line": {
              "color": "white"
             }
            },
            "header": {
             "fill": {
              "color": "#C8D4E3"
             },
             "line": {
              "color": "white"
             }
            },
            "type": "table"
           }
          ]
         },
         "layout": {
          "annotationdefaults": {
           "arrowcolor": "#2a3f5f",
           "arrowhead": 0,
           "arrowwidth": 1
          },
          "autotypenumbers": "strict",
          "coloraxis": {
           "colorbar": {
            "outlinewidth": 0,
            "ticks": ""
           }
          },
          "colorscale": {
           "diverging": [
            [
             0,
             "#8e0152"
            ],
            [
             0.1,
             "#c51b7d"
            ],
            [
             0.2,
             "#de77ae"
            ],
            [
             0.3,
             "#f1b6da"
            ],
            [
             0.4,
             "#fde0ef"
            ],
            [
             0.5,
             "#f7f7f7"
            ],
            [
             0.6,
             "#e6f5d0"
            ],
            [
             0.7,
             "#b8e186"
            ],
            [
             0.8,
             "#7fbc41"
            ],
            [
             0.9,
             "#4d9221"
            ],
            [
             1,
             "#276419"
            ]
           ],
           "sequential": [
            [
             0,
             "#0d0887"
            ],
            [
             0.1111111111111111,
             "#46039f"
            ],
            [
             0.2222222222222222,
             "#7201a8"
            ],
            [
             0.3333333333333333,
             "#9c179e"
            ],
            [
             0.4444444444444444,
             "#bd3786"
            ],
            [
             0.5555555555555556,
             "#d8576b"
            ],
            [
             0.6666666666666666,
             "#ed7953"
            ],
            [
             0.7777777777777778,
             "#fb9f3a"
            ],
            [
             0.8888888888888888,
             "#fdca26"
            ],
            [
             1,
             "#f0f921"
            ]
           ],
           "sequentialminus": [
            [
             0,
             "#0d0887"
            ],
            [
             0.1111111111111111,
             "#46039f"
            ],
            [
             0.2222222222222222,
             "#7201a8"
            ],
            [
             0.3333333333333333,
             "#9c179e"
            ],
            [
             0.4444444444444444,
             "#bd3786"
            ],
            [
             0.5555555555555556,
             "#d8576b"
            ],
            [
             0.6666666666666666,
             "#ed7953"
            ],
            [
             0.7777777777777778,
             "#fb9f3a"
            ],
            [
             0.8888888888888888,
             "#fdca26"
            ],
            [
             1,
             "#f0f921"
            ]
           ]
          },
          "colorway": [
           "#636efa",
           "#EF553B",
           "#00cc96",
           "#ab63fa",
           "#FFA15A",
           "#19d3f3",
           "#FF6692",
           "#B6E880",
           "#FF97FF",
           "#FECB52"
          ],
          "font": {
           "color": "#2a3f5f"
          },
          "geo": {
           "bgcolor": "white",
           "lakecolor": "white",
           "landcolor": "#E5ECF6",
           "showlakes": true,
           "showland": true,
           "subunitcolor": "white"
          },
          "hoverlabel": {
           "align": "left"
          },
          "hovermode": "closest",
          "mapbox": {
           "style": "light"
          },
          "paper_bgcolor": "white",
          "plot_bgcolor": "#E5ECF6",
          "polar": {
           "angularaxis": {
            "gridcolor": "white",
            "linecolor": "white",
            "ticks": ""
           },
           "bgcolor": "#E5ECF6",
           "radialaxis": {
            "gridcolor": "white",
            "linecolor": "white",
            "ticks": ""
           }
          },
          "scene": {
           "xaxis": {
            "backgroundcolor": "#E5ECF6",
            "gridcolor": "white",
            "gridwidth": 2,
            "linecolor": "white",
            "showbackground": true,
            "ticks": "",
            "zerolinecolor": "white"
           },
           "yaxis": {
            "backgroundcolor": "#E5ECF6",
            "gridcolor": "white",
            "gridwidth": 2,
            "linecolor": "white",
            "showbackground": true,
            "ticks": "",
            "zerolinecolor": "white"
           },
           "zaxis": {
            "backgroundcolor": "#E5ECF6",
            "gridcolor": "white",
            "gridwidth": 2,
            "linecolor": "white",
            "showbackground": true,
            "ticks": "",
            "zerolinecolor": "white"
           }
          },
          "shapedefaults": {
           "line": {
            "color": "#2a3f5f"
           }
          },
          "ternary": {
           "aaxis": {
            "gridcolor": "white",
            "linecolor": "white",
            "ticks": ""
           },
           "baxis": {
            "gridcolor": "white",
            "linecolor": "white",
            "ticks": ""
           },
           "bgcolor": "#E5ECF6",
           "caxis": {
            "gridcolor": "white",
            "linecolor": "white",
            "ticks": ""
           }
          },
          "title": {
           "x": 0.05
          },
          "xaxis": {
           "automargin": true,
           "gridcolor": "white",
           "linecolor": "white",
           "ticks": "",
           "title": {
            "standoff": 15
           },
           "zerolinecolor": "white",
           "zerolinewidth": 2
          },
          "yaxis": {
           "automargin": true,
           "gridcolor": "white",
           "linecolor": "white",
           "ticks": "",
           "title": {
            "standoff": 15
           },
           "zerolinecolor": "white",
           "zerolinewidth": 2
          }
         }
        },
        "xaxis": {
         "anchor": "y",
         "domain": [
          0,
          1
         ],
         "title": {
          "text": "time"
         }
        },
        "yaxis": {
         "anchor": "x",
         "domain": [
          0,
          1
         ],
         "title": {
          "text": "count"
         }
        }
       }
      }
     },
     "metadata": {},
     "output_type": "display_data"
    },
    {
     "data": {
      "application/vnd.plotly.v1+json": {
       "config": {
        "plotlyServerURL": "https://plot.ly"
       },
       "data": [
        {
         "alignmentgroup": "True",
         "customdata": [
          [
           "The oligarchs are destroying our country through t",
           0,
           "MSNBC",
           "2023-01-16T11:54:52Z",
           "Dino Steaks",
           "UCBbyIBdQX2vXTMC8g-ApE-w"
          ],
          [
           "A rugby league match will be paused to honour a “r",
           0,
           "MSNBC",
           "2023-01-16T11:59:12Z",
           "Dino Steaks",
           "UCBbyIBdQX2vXTMC8g-ApE-w"
          ]
         ],
         "hovertemplate": "videoId=vqECnzswEMs<br>time=%{x}<br>count=%{y}<br>summ=%{customdata[0]}<br>likeCount=%{customdata[1]}<br>channelName=%{customdata[2]}<br>publishedAt=%{customdata[3]}<br>authorDisplayName=%{customdata[4]}<br>authorChannelId=%{customdata[5]}<extra></extra>",
         "legendgroup": "vqECnzswEMs",
         "marker": {
          "color": "#636efa",
          "pattern": {
           "shape": ""
          }
         },
         "name": "vqECnzswEMs",
         "offsetgroup": "vqECnzswEMs",
         "orientation": "v",
         "showlegend": true,
         "textposition": "auto",
         "type": "bar",
         "x": [
          "2023-01-16T11:30:00+00:00",
          "2023-01-16T11:30:00+00:00"
         ],
         "xaxis": "x",
         "y": [
          1,
          1
         ],
         "yaxis": "y"
        },
        {
         "alignmentgroup": "True",
         "customdata": [
          [
           "Shout out to big pharma and 'died suddenly'\nJan 11",
           3,
           "MSNBC",
           "2023-01-16T12:14:51Z",
           "Dino Steaks",
           "UCBbyIBdQX2vXTMC8g-ApE-w"
          ]
         ],
         "hovertemplate": "videoId=VXayeXrcz7E<br>time=%{x}<br>count=%{y}<br>summ=%{customdata[0]}<br>likeCount=%{customdata[1]}<br>channelName=%{customdata[2]}<br>publishedAt=%{customdata[3]}<br>authorDisplayName=%{customdata[4]}<br>authorChannelId=%{customdata[5]}<extra></extra>",
         "legendgroup": "VXayeXrcz7E",
         "marker": {
          "color": "#EF553B",
          "pattern": {
           "shape": ""
          }
         },
         "name": "VXayeXrcz7E",
         "offsetgroup": "VXayeXrcz7E",
         "orientation": "v",
         "showlegend": true,
         "textposition": "auto",
         "type": "bar",
         "x": [
          "2023-01-16T12:00:00+00:00"
         ],
         "xaxis": "x",
         "y": [
          1
         ],
         "yaxis": "y"
        },
        {
         "alignmentgroup": "True",
         "customdata": [
          [
           "Shout out to big pharma and 'died suddenly'\nJan 11",
           6,
           "MSNBC",
           "2023-01-16T12:38:51Z",
           "Dino Steaks",
           "UCBbyIBdQX2vXTMC8g-ApE-w"
          ]
         ],
         "hovertemplate": "videoId=depvV6hSKZA<br>time=%{x}<br>count=%{y}<br>summ=%{customdata[0]}<br>likeCount=%{customdata[1]}<br>channelName=%{customdata[2]}<br>publishedAt=%{customdata[3]}<br>authorDisplayName=%{customdata[4]}<br>authorChannelId=%{customdata[5]}<extra></extra>",
         "legendgroup": "depvV6hSKZA",
         "marker": {
          "color": "#00cc96",
          "pattern": {
           "shape": ""
          }
         },
         "name": "depvV6hSKZA",
         "offsetgroup": "depvV6hSKZA",
         "orientation": "v",
         "showlegend": true,
         "textposition": "auto",
         "type": "bar",
         "x": [
          "2023-01-16T12:30:00+00:00"
         ],
         "xaxis": "x",
         "y": [
          1
         ],
         "yaxis": "y"
        },
        {
         "alignmentgroup": "True",
         "customdata": [
          [
           "God gives a nation the leaders it deserves.\nThat i",
           1,
           "MSNBC",
           "2023-01-16T13:15:52Z",
           "Dino Steaks",
           "UCBbyIBdQX2vXTMC8g-ApE-w"
          ]
         ],
         "hovertemplate": "videoId=S1jGLU7dEQs<br>time=%{x}<br>count=%{y}<br>summ=%{customdata[0]}<br>likeCount=%{customdata[1]}<br>channelName=%{customdata[2]}<br>publishedAt=%{customdata[3]}<br>authorDisplayName=%{customdata[4]}<br>authorChannelId=%{customdata[5]}<extra></extra>",
         "legendgroup": "S1jGLU7dEQs",
         "marker": {
          "color": "#ab63fa",
          "pattern": {
           "shape": ""
          }
         },
         "name": "S1jGLU7dEQs",
         "offsetgroup": "S1jGLU7dEQs",
         "orientation": "v",
         "showlegend": true,
         "textposition": "auto",
         "type": "bar",
         "x": [
          "2023-01-16T13:00:00+00:00"
         ],
         "xaxis": "x",
         "y": [
          1
         ],
         "yaxis": "y"
        },
        {
         "alignmentgroup": "True",
         "customdata": [
          [
           "Modern Babylon is represented by 50 satanic pentag",
           0,
           "MSNBC",
           "2023-01-16T13:18:53Z",
           "Dino Steaks",
           "UCBbyIBdQX2vXTMC8g-ApE-w"
          ]
         ],
         "hovertemplate": "videoId=lNEvb8a_W6s<br>time=%{x}<br>count=%{y}<br>summ=%{customdata[0]}<br>likeCount=%{customdata[1]}<br>channelName=%{customdata[2]}<br>publishedAt=%{customdata[3]}<br>authorDisplayName=%{customdata[4]}<br>authorChannelId=%{customdata[5]}<extra></extra>",
         "legendgroup": "lNEvb8a_W6s",
         "marker": {
          "color": "#FFA15A",
          "pattern": {
           "shape": ""
          }
         },
         "name": "lNEvb8a_W6s",
         "offsetgroup": "lNEvb8a_W6s",
         "orientation": "v",
         "showlegend": true,
         "textposition": "auto",
         "type": "bar",
         "x": [
          "2023-01-16T13:00:00+00:00"
         ],
         "xaxis": "x",
         "y": [
          1
         ],
         "yaxis": "y"
        },
        {
         "alignmentgroup": "True",
         "customdata": [
          [
           "Khazars are over represented on Biden's Cabinet by",
           1,
           "MSNBC",
           "2023-01-16T13:32:40Z",
           "Dino Steaks",
           "UCBbyIBdQX2vXTMC8g-ApE-w"
          ]
         ],
         "hovertemplate": "videoId=kCdgSmUfFow<br>time=%{x}<br>count=%{y}<br>summ=%{customdata[0]}<br>likeCount=%{customdata[1]}<br>channelName=%{customdata[2]}<br>publishedAt=%{customdata[3]}<br>authorDisplayName=%{customdata[4]}<br>authorChannelId=%{customdata[5]}<extra></extra>",
         "legendgroup": "kCdgSmUfFow",
         "marker": {
          "color": "#19d3f3",
          "pattern": {
           "shape": ""
          }
         },
         "name": "kCdgSmUfFow",
         "offsetgroup": "kCdgSmUfFow",
         "orientation": "v",
         "showlegend": true,
         "textposition": "auto",
         "type": "bar",
         "x": [
          "2023-01-16T13:30:00+00:00"
         ],
         "xaxis": "x",
         "y": [
          1
         ],
         "yaxis": "y"
        },
        {
         "alignmentgroup": "True",
         "customdata": [
          [
           "MLK's dream certainly didn't involve oligarchs con",
           0,
           "MSNBC",
           "2023-01-16T14:07:41Z",
           "Dino Steaks",
           "UCBbyIBdQX2vXTMC8g-ApE-w"
          ],
          [
           "If you had $100.00 when the Federal Reserve took o",
           0,
           "MSNBC",
           "2023-01-16T14:09:05Z",
           "Dino Steaks",
           "UCBbyIBdQX2vXTMC8g-ApE-w"
          ],
          [
           "Khazars are over represented on Biden's Cabinet by",
           0,
           "MSNBC",
           "2023-01-16T14:20:12Z",
           "Dino Steaks",
           "UCBbyIBdQX2vXTMC8g-ApE-w"
          ]
         ],
         "hovertemplate": "videoId=LDgbRnm9TG8<br>time=%{x}<br>count=%{y}<br>summ=%{customdata[0]}<br>likeCount=%{customdata[1]}<br>channelName=%{customdata[2]}<br>publishedAt=%{customdata[3]}<br>authorDisplayName=%{customdata[4]}<br>authorChannelId=%{customdata[5]}<extra></extra>",
         "legendgroup": "LDgbRnm9TG8",
         "marker": {
          "color": "#FF6692",
          "pattern": {
           "shape": ""
          }
         },
         "name": "LDgbRnm9TG8",
         "offsetgroup": "LDgbRnm9TG8",
         "orientation": "v",
         "showlegend": true,
         "textposition": "auto",
         "type": "bar",
         "x": [
          "2023-01-16T14:00:00+00:00",
          "2023-01-16T14:00:00+00:00",
          "2023-01-16T14:00:00+00:00"
         ],
         "xaxis": "x",
         "y": [
          1,
          1,
          1
         ],
         "yaxis": "y"
        },
        {
         "alignmentgroup": "True",
         "customdata": [
          [
           "Feed that Hegelian Dialectic for your Khazar overl",
           1,
           "MSNBC",
           "2023-01-16T14:38:29Z",
           "Dino Steaks",
           "UCBbyIBdQX2vXTMC8g-ApE-w"
          ]
         ],
         "hovertemplate": "videoId=5MtAd05XBE0<br>time=%{x}<br>count=%{y}<br>summ=%{customdata[0]}<br>likeCount=%{customdata[1]}<br>channelName=%{customdata[2]}<br>publishedAt=%{customdata[3]}<br>authorDisplayName=%{customdata[4]}<br>authorChannelId=%{customdata[5]}<extra></extra>",
         "legendgroup": "5MtAd05XBE0",
         "marker": {
          "color": "#B6E880",
          "pattern": {
           "shape": ""
          }
         },
         "name": "5MtAd05XBE0",
         "offsetgroup": "5MtAd05XBE0",
         "orientation": "v",
         "showlegend": true,
         "textposition": "auto",
         "type": "bar",
         "x": [
          "2023-01-16T14:30:00+00:00"
         ],
         "xaxis": "x",
         "y": [
          1
         ],
         "yaxis": "y"
        },
        {
         "alignmentgroup": "True",
         "customdata": [
          [
           "We've been at DEFCON 3 for over 10 months in a row",
           1,
           "MSNBC",
           "2023-01-16T14:45:24Z",
           "Dino Steaks",
           "UCBbyIBdQX2vXTMC8g-ApE-w"
          ]
         ],
         "hovertemplate": "videoId=NN2cWqDikd4<br>time=%{x}<br>count=%{y}<br>summ=%{customdata[0]}<br>likeCount=%{customdata[1]}<br>channelName=%{customdata[2]}<br>publishedAt=%{customdata[3]}<br>authorDisplayName=%{customdata[4]}<br>authorChannelId=%{customdata[5]}<extra></extra>",
         "legendgroup": "NN2cWqDikd4",
         "marker": {
          "color": "#FF97FF",
          "pattern": {
           "shape": ""
          }
         },
         "name": "NN2cWqDikd4",
         "offsetgroup": "NN2cWqDikd4",
         "orientation": "v",
         "showlegend": true,
         "textposition": "auto",
         "type": "bar",
         "x": [
          "2023-01-16T14:30:00+00:00"
         ],
         "xaxis": "x",
         "y": [
          1
         ],
         "yaxis": "y"
        },
        {
         "alignmentgroup": "True",
         "customdata": [
          [
           "The Bidens are an international crime family and t",
           0,
           "MSNBC",
           "2023-01-16T15:33:43Z",
           "Dino Steaks",
           "UCBbyIBdQX2vXTMC8g-ApE-w"
          ]
         ],
         "hovertemplate": "videoId=JFg9vUxjoHg<br>time=%{x}<br>count=%{y}<br>summ=%{customdata[0]}<br>likeCount=%{customdata[1]}<br>channelName=%{customdata[2]}<br>publishedAt=%{customdata[3]}<br>authorDisplayName=%{customdata[4]}<br>authorChannelId=%{customdata[5]}<extra></extra>",
         "legendgroup": "JFg9vUxjoHg",
         "marker": {
          "color": "#FECB52",
          "pattern": {
           "shape": ""
          }
         },
         "name": "JFg9vUxjoHg",
         "offsetgroup": "JFg9vUxjoHg",
         "orientation": "v",
         "showlegend": true,
         "textposition": "auto",
         "type": "bar",
         "x": [
          "2023-01-16T15:30:00+00:00"
         ],
         "xaxis": "x",
         "y": [
          1
         ],
         "yaxis": "y"
        },
        {
         "alignmentgroup": "True",
         "customdata": [
          [
           "The Uniparty can get away with anything, as eviden",
           0,
           "MSNBC",
           "2023-01-16T16:27:54Z",
           "Dino Steaks",
           "UCBbyIBdQX2vXTMC8g-ApE-w"
          ]
         ],
         "hovertemplate": "videoId=n1nkz0kUYDk<br>time=%{x}<br>count=%{y}<br>summ=%{customdata[0]}<br>likeCount=%{customdata[1]}<br>channelName=%{customdata[2]}<br>publishedAt=%{customdata[3]}<br>authorDisplayName=%{customdata[4]}<br>authorChannelId=%{customdata[5]}<extra></extra>",
         "legendgroup": "n1nkz0kUYDk",
         "marker": {
          "color": "#636efa",
          "pattern": {
           "shape": ""
          }
         },
         "name": "n1nkz0kUYDk",
         "offsetgroup": "n1nkz0kUYDk",
         "orientation": "v",
         "showlegend": true,
         "textposition": "auto",
         "type": "bar",
         "x": [
          "2023-01-16T16:00:00+00:00"
         ],
         "xaxis": "x",
         "y": [
          1
         ],
         "yaxis": "y"
        },
        {
         "alignmentgroup": "True",
         "customdata": [
          [
           "The Uniparty easily manipulates their Unitards.\nSp",
           0,
           "Fox News",
           "2023-01-16T16:59:15Z",
           "Dino Steaks",
           "UCBbyIBdQX2vXTMC8g-ApE-w"
          ]
         ],
         "hovertemplate": "videoId=4aStZ6i3mcg<br>time=%{x}<br>count=%{y}<br>summ=%{customdata[0]}<br>likeCount=%{customdata[1]}<br>channelName=%{customdata[2]}<br>publishedAt=%{customdata[3]}<br>authorDisplayName=%{customdata[4]}<br>authorChannelId=%{customdata[5]}<extra></extra>",
         "legendgroup": "4aStZ6i3mcg",
         "marker": {
          "color": "#EF553B",
          "pattern": {
           "shape": ""
          }
         },
         "name": "4aStZ6i3mcg",
         "offsetgroup": "4aStZ6i3mcg",
         "orientation": "v",
         "showlegend": true,
         "textposition": "auto",
         "type": "bar",
         "x": [
          "2023-01-16T16:30:00+00:00"
         ],
         "xaxis": "x",
         "y": [
          1
         ],
         "yaxis": "y"
        },
        {
         "alignmentgroup": "True",
         "customdata": [
          [
           "Why wouldn't I trust a Kenyan Muslim of Indian des",
           0,
           "MSNBC",
           "2023-01-16T17:28:39Z",
           "Dino Steaks",
           "UCBbyIBdQX2vXTMC8g-ApE-w"
          ],
          [
           "Our government isn't sustainable in any way.  All ",
           1,
           "MSNBC",
           "2023-01-16T17:28:52Z",
           "Dino Steaks",
           "UCBbyIBdQX2vXTMC8g-ApE-w"
          ]
         ],
         "hovertemplate": "videoId=CdI2YwChp3U<br>time=%{x}<br>count=%{y}<br>summ=%{customdata[0]}<br>likeCount=%{customdata[1]}<br>channelName=%{customdata[2]}<br>publishedAt=%{customdata[3]}<br>authorDisplayName=%{customdata[4]}<br>authorChannelId=%{customdata[5]}<extra></extra>",
         "legendgroup": "CdI2YwChp3U",
         "marker": {
          "color": "#00cc96",
          "pattern": {
           "shape": ""
          }
         },
         "name": "CdI2YwChp3U",
         "offsetgroup": "CdI2YwChp3U",
         "orientation": "v",
         "showlegend": true,
         "textposition": "auto",
         "type": "bar",
         "x": [
          "2023-01-16T17:00:00+00:00",
          "2023-01-16T17:00:00+00:00"
         ],
         "xaxis": "x",
         "y": [
          1,
          1
         ],
         "yaxis": "y"
        },
        {
         "alignmentgroup": "True",
         "customdata": [
          [
           "Another Khazar behind another curtain.\nHow over re",
           0,
           "MSNBC",
           "2023-01-16T19:04:27Z",
           "Dino Steaks",
           "UCBbyIBdQX2vXTMC8g-ApE-w"
          ],
          [
           "You can see Hunter argue with a prostitute about h",
           0,
           "MSNBC",
           "2023-01-16T19:25:58Z",
           "Dino Steaks",
           "UCBbyIBdQX2vXTMC8g-ApE-w"
          ],
          [
           "Brand down almost sounds like Brandon.  \nFitting.",
           2,
           "MSNBC",
           "2023-01-16T19:30:02Z",
           "Dino Steaks",
           "UCBbyIBdQX2vXTMC8g-ApE-w"
          ]
         ],
         "hovertemplate": "videoId=dZlUdYTClcE<br>time=%{x}<br>count=%{y}<br>summ=%{customdata[0]}<br>likeCount=%{customdata[1]}<br>channelName=%{customdata[2]}<br>publishedAt=%{customdata[3]}<br>authorDisplayName=%{customdata[4]}<br>authorChannelId=%{customdata[5]}<extra></extra>",
         "legendgroup": "dZlUdYTClcE",
         "marker": {
          "color": "#ab63fa",
          "pattern": {
           "shape": ""
          }
         },
         "name": "dZlUdYTClcE",
         "offsetgroup": "dZlUdYTClcE",
         "orientation": "v",
         "showlegend": true,
         "textposition": "auto",
         "type": "bar",
         "x": [
          "2023-01-16T19:00:00+00:00",
          "2023-01-16T19:00:00+00:00",
          "2023-01-16T19:30:00+00:00"
         ],
         "xaxis": "x",
         "y": [
          1,
          1,
          1
         ],
         "yaxis": "y"
        },
        {
         "alignmentgroup": "True",
         "customdata": [
          [
           "Khazars are over represented on Biden's Cabinet by",
           1,
           "MSNBC",
           "2023-01-16T20:06:10Z",
           "Dino Steaks",
           "UCBbyIBdQX2vXTMC8g-ApE-w"
          ]
         ],
         "hovertemplate": "videoId=O4WIuEPVc14<br>time=%{x}<br>count=%{y}<br>summ=%{customdata[0]}<br>likeCount=%{customdata[1]}<br>channelName=%{customdata[2]}<br>publishedAt=%{customdata[3]}<br>authorDisplayName=%{customdata[4]}<br>authorChannelId=%{customdata[5]}<extra></extra>",
         "legendgroup": "O4WIuEPVc14",
         "marker": {
          "color": "#FFA15A",
          "pattern": {
           "shape": ""
          }
         },
         "name": "O4WIuEPVc14",
         "offsetgroup": "O4WIuEPVc14",
         "orientation": "v",
         "showlegend": true,
         "textposition": "auto",
         "type": "bar",
         "x": [
          "2023-01-16T20:00:00+00:00"
         ],
         "xaxis": "x",
         "y": [
          1
         ],
         "yaxis": "y"
        },
        {
         "alignmentgroup": "True",
         "customdata": [
          [
           "Slabba Military Industrial Complex!\nBrandon needs ",
           5,
           "MSNBC",
           "2023-01-16T20:31:06Z",
           "Dino Steaks",
           "UCBbyIBdQX2vXTMC8g-ApE-w"
          ],
          [
           "How over represented are Khazars on Biden's Cabine",
           0,
           "MSNBC",
           "2023-01-16T20:35:14Z",
           "Dino Steaks",
           "UCBbyIBdQX2vXTMC8g-ApE-w"
          ]
         ],
         "hovertemplate": "videoId=yA3RjQSLQhI<br>time=%{x}<br>count=%{y}<br>summ=%{customdata[0]}<br>likeCount=%{customdata[1]}<br>channelName=%{customdata[2]}<br>publishedAt=%{customdata[3]}<br>authorDisplayName=%{customdata[4]}<br>authorChannelId=%{customdata[5]}<extra></extra>",
         "legendgroup": "yA3RjQSLQhI",
         "marker": {
          "color": "#19d3f3",
          "pattern": {
           "shape": ""
          }
         },
         "name": "yA3RjQSLQhI",
         "offsetgroup": "yA3RjQSLQhI",
         "orientation": "v",
         "showlegend": true,
         "textposition": "auto",
         "type": "bar",
         "x": [
          "2023-01-16T20:30:00+00:00",
          "2023-01-16T20:30:00+00:00"
         ],
         "xaxis": "x",
         "y": [
          1,
          1
         ],
         "yaxis": "y"
        },
        {
         "alignmentgroup": "True",
         "customdata": [
          [
           "Our government isn't sustainable in any way.  All ",
           0,
           "MSNBC",
           "2023-01-16T21:02:35Z",
           "Dino Steaks",
           "UCBbyIBdQX2vXTMC8g-ApE-w"
          ],
          [
           "Both parties happily destroyed your 4th Amendment ",
           8,
           "MSNBC",
           "2023-01-16T21:13:19Z",
           "Dino Steaks",
           "UCBbyIBdQX2vXTMC8g-ApE-w"
          ],
          [
           "Both parties happily destroyed your 4th Amendment ",
           7,
           "MSNBC",
           "2023-01-16T21:13:19Z",
           "Dino Steaks",
           "UCBbyIBdQX2vXTMC8g-ApE-w"
          ],
          [
           "Who controls this senile old man who has trouble e",
           0,
           "MSNBC",
           "2023-01-16T21:17:18Z",
           "Dino Steaks",
           "UCBbyIBdQX2vXTMC8g-ApE-w"
          ],
          [
           "You can see a video of Hunter arguing with a prost",
           0,
           "MSNBC",
           "2023-01-16T21:20:53Z",
           "Dino Steaks",
           "UCBbyIBdQX2vXTMC8g-ApE-w"
          ],
          [
           "Friendly reminder:\nNobody important from the Unipa",
           5,
           "MSNBC",
           "2023-01-16T21:36:44Z",
           "Dino Steaks",
           "UCBbyIBdQX2vXTMC8g-ApE-w"
          ]
         ],
         "hovertemplate": "videoId=z3fQMLCePsU<br>time=%{x}<br>count=%{y}<br>summ=%{customdata[0]}<br>likeCount=%{customdata[1]}<br>channelName=%{customdata[2]}<br>publishedAt=%{customdata[3]}<br>authorDisplayName=%{customdata[4]}<br>authorChannelId=%{customdata[5]}<extra></extra>",
         "legendgroup": "z3fQMLCePsU",
         "marker": {
          "color": "#FF6692",
          "pattern": {
           "shape": ""
          }
         },
         "name": "z3fQMLCePsU",
         "offsetgroup": "z3fQMLCePsU",
         "orientation": "v",
         "showlegend": true,
         "textposition": "auto",
         "type": "bar",
         "x": [
          "2023-01-16T21:00:00+00:00",
          "2023-01-16T21:00:00+00:00",
          "2023-01-16T21:00:00+00:00",
          "2023-01-16T21:00:00+00:00",
          "2023-01-16T21:00:00+00:00",
          "2023-01-16T21:30:00+00:00"
         ],
         "xaxis": "x",
         "y": [
          1,
          1,
          1,
          1,
          1,
          1
         ],
         "yaxis": "y"
        },
        {
         "alignmentgroup": "True",
         "customdata": [
          [
           "There is a Khazar behind every curtain.\nObviously ",
           1,
           "MSNBC",
           "2023-01-16T22:07:55Z",
           "Dino Steaks",
           "UCBbyIBdQX2vXTMC8g-ApE-w"
          ],
          [
           "There is a Khazar behind every curtain.\nObviously ",
           0,
           "MSNBC",
           "2023-01-16T22:07:55Z",
           "Dino Steaks",
           "UCBbyIBdQX2vXTMC8g-ApE-w"
          ],
          [
           "The only Khazar that can rap is Aesop Rock.",
           1,
           "MSNBC",
           "2023-01-16T22:29:21Z",
           "Dino Steaks",
           "UCBbyIBdQX2vXTMC8g-ApE-w"
          ],
          [
           "I wish I was a COVID conspiracy theorist early on ",
           1,
           "MSNBC",
           "2023-01-16T23:43:56Z",
           "Dino Steaks",
           "UCBbyIBdQX2vXTMC8g-ApE-w"
          ]
         ],
         "hovertemplate": "videoId=9FX3Qm4aC8U<br>time=%{x}<br>count=%{y}<br>summ=%{customdata[0]}<br>likeCount=%{customdata[1]}<br>channelName=%{customdata[2]}<br>publishedAt=%{customdata[3]}<br>authorDisplayName=%{customdata[4]}<br>authorChannelId=%{customdata[5]}<extra></extra>",
         "legendgroup": "9FX3Qm4aC8U",
         "marker": {
          "color": "#B6E880",
          "pattern": {
           "shape": ""
          }
         },
         "name": "9FX3Qm4aC8U",
         "offsetgroup": "9FX3Qm4aC8U",
         "orientation": "v",
         "showlegend": true,
         "textposition": "auto",
         "type": "bar",
         "x": [
          "2023-01-16T22:00:00+00:00",
          "2023-01-16T22:00:00+00:00",
          "2023-01-16T22:00:00+00:00",
          "2023-01-16T23:30:00+00:00"
         ],
         "xaxis": "x",
         "y": [
          1,
          1,
          1,
          1
         ],
         "yaxis": "y"
        }
       ],
       "layout": {
        "barmode": "relative",
        "legend": {
         "title": {
          "text": "videoId"
         },
         "tracegroupgap": 0
        },
        "margin": {
         "t": 60
        },
        "template": {
         "data": {
          "bar": [
           {
            "error_x": {
             "color": "#2a3f5f"
            },
            "error_y": {
             "color": "#2a3f5f"
            },
            "marker": {
             "line": {
              "color": "#E5ECF6",
              "width": 0.5
             },
             "pattern": {
              "fillmode": "overlay",
              "size": 10,
              "solidity": 0.2
             }
            },
            "type": "bar"
           }
          ],
          "barpolar": [
           {
            "marker": {
             "line": {
              "color": "#E5ECF6",
              "width": 0.5
             },
             "pattern": {
              "fillmode": "overlay",
              "size": 10,
              "solidity": 0.2
             }
            },
            "type": "barpolar"
           }
          ],
          "carpet": [
           {
            "aaxis": {
             "endlinecolor": "#2a3f5f",
             "gridcolor": "white",
             "linecolor": "white",
             "minorgridcolor": "white",
             "startlinecolor": "#2a3f5f"
            },
            "baxis": {
             "endlinecolor": "#2a3f5f",
             "gridcolor": "white",
             "linecolor": "white",
             "minorgridcolor": "white",
             "startlinecolor": "#2a3f5f"
            },
            "type": "carpet"
           }
          ],
          "choropleth": [
           {
            "colorbar": {
             "outlinewidth": 0,
             "ticks": ""
            },
            "type": "choropleth"
           }
          ],
          "contour": [
           {
            "colorbar": {
             "outlinewidth": 0,
             "ticks": ""
            },
            "colorscale": [
             [
              0,
              "#0d0887"
             ],
             [
              0.1111111111111111,
              "#46039f"
             ],
             [
              0.2222222222222222,
              "#7201a8"
             ],
             [
              0.3333333333333333,
              "#9c179e"
             ],
             [
              0.4444444444444444,
              "#bd3786"
             ],
             [
              0.5555555555555556,
              "#d8576b"
             ],
             [
              0.6666666666666666,
              "#ed7953"
             ],
             [
              0.7777777777777778,
              "#fb9f3a"
             ],
             [
              0.8888888888888888,
              "#fdca26"
             ],
             [
              1,
              "#f0f921"
             ]
            ],
            "type": "contour"
           }
          ],
          "contourcarpet": [
           {
            "colorbar": {
             "outlinewidth": 0,
             "ticks": ""
            },
            "type": "contourcarpet"
           }
          ],
          "heatmap": [
           {
            "colorbar": {
             "outlinewidth": 0,
             "ticks": ""
            },
            "colorscale": [
             [
              0,
              "#0d0887"
             ],
             [
              0.1111111111111111,
              "#46039f"
             ],
             [
              0.2222222222222222,
              "#7201a8"
             ],
             [
              0.3333333333333333,
              "#9c179e"
             ],
             [
              0.4444444444444444,
              "#bd3786"
             ],
             [
              0.5555555555555556,
              "#d8576b"
             ],
             [
              0.6666666666666666,
              "#ed7953"
             ],
             [
              0.7777777777777778,
              "#fb9f3a"
             ],
             [
              0.8888888888888888,
              "#fdca26"
             ],
             [
              1,
              "#f0f921"
             ]
            ],
            "type": "heatmap"
           }
          ],
          "heatmapgl": [
           {
            "colorbar": {
             "outlinewidth": 0,
             "ticks": ""
            },
            "colorscale": [
             [
              0,
              "#0d0887"
             ],
             [
              0.1111111111111111,
              "#46039f"
             ],
             [
              0.2222222222222222,
              "#7201a8"
             ],
             [
              0.3333333333333333,
              "#9c179e"
             ],
             [
              0.4444444444444444,
              "#bd3786"
             ],
             [
              0.5555555555555556,
              "#d8576b"
             ],
             [
              0.6666666666666666,
              "#ed7953"
             ],
             [
              0.7777777777777778,
              "#fb9f3a"
             ],
             [
              0.8888888888888888,
              "#fdca26"
             ],
             [
              1,
              "#f0f921"
             ]
            ],
            "type": "heatmapgl"
           }
          ],
          "histogram": [
           {
            "marker": {
             "pattern": {
              "fillmode": "overlay",
              "size": 10,
              "solidity": 0.2
             }
            },
            "type": "histogram"
           }
          ],
          "histogram2d": [
           {
            "colorbar": {
             "outlinewidth": 0,
             "ticks": ""
            },
            "colorscale": [
             [
              0,
              "#0d0887"
             ],
             [
              0.1111111111111111,
              "#46039f"
             ],
             [
              0.2222222222222222,
              "#7201a8"
             ],
             [
              0.3333333333333333,
              "#9c179e"
             ],
             [
              0.4444444444444444,
              "#bd3786"
             ],
             [
              0.5555555555555556,
              "#d8576b"
             ],
             [
              0.6666666666666666,
              "#ed7953"
             ],
             [
              0.7777777777777778,
              "#fb9f3a"
             ],
             [
              0.8888888888888888,
              "#fdca26"
             ],
             [
              1,
              "#f0f921"
             ]
            ],
            "type": "histogram2d"
           }
          ],
          "histogram2dcontour": [
           {
            "colorbar": {
             "outlinewidth": 0,
             "ticks": ""
            },
            "colorscale": [
             [
              0,
              "#0d0887"
             ],
             [
              0.1111111111111111,
              "#46039f"
             ],
             [
              0.2222222222222222,
              "#7201a8"
             ],
             [
              0.3333333333333333,
              "#9c179e"
             ],
             [
              0.4444444444444444,
              "#bd3786"
             ],
             [
              0.5555555555555556,
              "#d8576b"
             ],
             [
              0.6666666666666666,
              "#ed7953"
             ],
             [
              0.7777777777777778,
              "#fb9f3a"
             ],
             [
              0.8888888888888888,
              "#fdca26"
             ],
             [
              1,
              "#f0f921"
             ]
            ],
            "type": "histogram2dcontour"
           }
          ],
          "mesh3d": [
           {
            "colorbar": {
             "outlinewidth": 0,
             "ticks": ""
            },
            "type": "mesh3d"
           }
          ],
          "parcoords": [
           {
            "line": {
             "colorbar": {
              "outlinewidth": 0,
              "ticks": ""
             }
            },
            "type": "parcoords"
           }
          ],
          "pie": [
           {
            "automargin": true,
            "type": "pie"
           }
          ],
          "scatter": [
           {
            "fillpattern": {
             "fillmode": "overlay",
             "size": 10,
             "solidity": 0.2
            },
            "type": "scatter"
           }
          ],
          "scatter3d": [
           {
            "line": {
             "colorbar": {
              "outlinewidth": 0,
              "ticks": ""
             }
            },
            "marker": {
             "colorbar": {
              "outlinewidth": 0,
              "ticks": ""
             }
            },
            "type": "scatter3d"
           }
          ],
          "scattercarpet": [
           {
            "marker": {
             "colorbar": {
              "outlinewidth": 0,
              "ticks": ""
             }
            },
            "type": "scattercarpet"
           }
          ],
          "scattergeo": [
           {
            "marker": {
             "colorbar": {
              "outlinewidth": 0,
              "ticks": ""
             }
            },
            "type": "scattergeo"
           }
          ],
          "scattergl": [
           {
            "marker": {
             "colorbar": {
              "outlinewidth": 0,
              "ticks": ""
             }
            },
            "type": "scattergl"
           }
          ],
          "scattermapbox": [
           {
            "marker": {
             "colorbar": {
              "outlinewidth": 0,
              "ticks": ""
             }
            },
            "type": "scattermapbox"
           }
          ],
          "scatterpolar": [
           {
            "marker": {
             "colorbar": {
              "outlinewidth": 0,
              "ticks": ""
             }
            },
            "type": "scatterpolar"
           }
          ],
          "scatterpolargl": [
           {
            "marker": {
             "colorbar": {
              "outlinewidth": 0,
              "ticks": ""
             }
            },
            "type": "scatterpolargl"
           }
          ],
          "scatterternary": [
           {
            "marker": {
             "colorbar": {
              "outlinewidth": 0,
              "ticks": ""
             }
            },
            "type": "scatterternary"
           }
          ],
          "surface": [
           {
            "colorbar": {
             "outlinewidth": 0,
             "ticks": ""
            },
            "colorscale": [
             [
              0,
              "#0d0887"
             ],
             [
              0.1111111111111111,
              "#46039f"
             ],
             [
              0.2222222222222222,
              "#7201a8"
             ],
             [
              0.3333333333333333,
              "#9c179e"
             ],
             [
              0.4444444444444444,
              "#bd3786"
             ],
             [
              0.5555555555555556,
              "#d8576b"
             ],
             [
              0.6666666666666666,
              "#ed7953"
             ],
             [
              0.7777777777777778,
              "#fb9f3a"
             ],
             [
              0.8888888888888888,
              "#fdca26"
             ],
             [
              1,
              "#f0f921"
             ]
            ],
            "type": "surface"
           }
          ],
          "table": [
           {
            "cells": {
             "fill": {
              "color": "#EBF0F8"
             },
             "line": {
              "color": "white"
             }
            },
            "header": {
             "fill": {
              "color": "#C8D4E3"
             },
             "line": {
              "color": "white"
             }
            },
            "type": "table"
           }
          ]
         },
         "layout": {
          "annotationdefaults": {
           "arrowcolor": "#2a3f5f",
           "arrowhead": 0,
           "arrowwidth": 1
          },
          "autotypenumbers": "strict",
          "coloraxis": {
           "colorbar": {
            "outlinewidth": 0,
            "ticks": ""
           }
          },
          "colorscale": {
           "diverging": [
            [
             0,
             "#8e0152"
            ],
            [
             0.1,
             "#c51b7d"
            ],
            [
             0.2,
             "#de77ae"
            ],
            [
             0.3,
             "#f1b6da"
            ],
            [
             0.4,
             "#fde0ef"
            ],
            [
             0.5,
             "#f7f7f7"
            ],
            [
             0.6,
             "#e6f5d0"
            ],
            [
             0.7,
             "#b8e186"
            ],
            [
             0.8,
             "#7fbc41"
            ],
            [
             0.9,
             "#4d9221"
            ],
            [
             1,
             "#276419"
            ]
           ],
           "sequential": [
            [
             0,
             "#0d0887"
            ],
            [
             0.1111111111111111,
             "#46039f"
            ],
            [
             0.2222222222222222,
             "#7201a8"
            ],
            [
             0.3333333333333333,
             "#9c179e"
            ],
            [
             0.4444444444444444,
             "#bd3786"
            ],
            [
             0.5555555555555556,
             "#d8576b"
            ],
            [
             0.6666666666666666,
             "#ed7953"
            ],
            [
             0.7777777777777778,
             "#fb9f3a"
            ],
            [
             0.8888888888888888,
             "#fdca26"
            ],
            [
             1,
             "#f0f921"
            ]
           ],
           "sequentialminus": [
            [
             0,
             "#0d0887"
            ],
            [
             0.1111111111111111,
             "#46039f"
            ],
            [
             0.2222222222222222,
             "#7201a8"
            ],
            [
             0.3333333333333333,
             "#9c179e"
            ],
            [
             0.4444444444444444,
             "#bd3786"
            ],
            [
             0.5555555555555556,
             "#d8576b"
            ],
            [
             0.6666666666666666,
             "#ed7953"
            ],
            [
             0.7777777777777778,
             "#fb9f3a"
            ],
            [
             0.8888888888888888,
             "#fdca26"
            ],
            [
             1,
             "#f0f921"
            ]
           ]
          },
          "colorway": [
           "#636efa",
           "#EF553B",
           "#00cc96",
           "#ab63fa",
           "#FFA15A",
           "#19d3f3",
           "#FF6692",
           "#B6E880",
           "#FF97FF",
           "#FECB52"
          ],
          "font": {
           "color": "#2a3f5f"
          },
          "geo": {
           "bgcolor": "white",
           "lakecolor": "white",
           "landcolor": "#E5ECF6",
           "showlakes": true,
           "showland": true,
           "subunitcolor": "white"
          },
          "hoverlabel": {
           "align": "left"
          },
          "hovermode": "closest",
          "mapbox": {
           "style": "light"
          },
          "paper_bgcolor": "white",
          "plot_bgcolor": "#E5ECF6",
          "polar": {
           "angularaxis": {
            "gridcolor": "white",
            "linecolor": "white",
            "ticks": ""
           },
           "bgcolor": "#E5ECF6",
           "radialaxis": {
            "gridcolor": "white",
            "linecolor": "white",
            "ticks": ""
           }
          },
          "scene": {
           "xaxis": {
            "backgroundcolor": "#E5ECF6",
            "gridcolor": "white",
            "gridwidth": 2,
            "linecolor": "white",
            "showbackground": true,
            "ticks": "",
            "zerolinecolor": "white"
           },
           "yaxis": {
            "backgroundcolor": "#E5ECF6",
            "gridcolor": "white",
            "gridwidth": 2,
            "linecolor": "white",
            "showbackground": true,
            "ticks": "",
            "zerolinecolor": "white"
           },
           "zaxis": {
            "backgroundcolor": "#E5ECF6",
            "gridcolor": "white",
            "gridwidth": 2,
            "linecolor": "white",
            "showbackground": true,
            "ticks": "",
            "zerolinecolor": "white"
           }
          },
          "shapedefaults": {
           "line": {
            "color": "#2a3f5f"
           }
          },
          "ternary": {
           "aaxis": {
            "gridcolor": "white",
            "linecolor": "white",
            "ticks": ""
           },
           "baxis": {
            "gridcolor": "white",
            "linecolor": "white",
            "ticks": ""
           },
           "bgcolor": "#E5ECF6",
           "caxis": {
            "gridcolor": "white",
            "linecolor": "white",
            "ticks": ""
           }
          },
          "title": {
           "x": 0.05
          },
          "xaxis": {
           "automargin": true,
           "gridcolor": "white",
           "linecolor": "white",
           "ticks": "",
           "title": {
            "standoff": 15
           },
           "zerolinecolor": "white",
           "zerolinewidth": 2
          },
          "yaxis": {
           "automargin": true,
           "gridcolor": "white",
           "linecolor": "white",
           "ticks": "",
           "title": {
            "standoff": 15
           },
           "zerolinecolor": "white",
           "zerolinewidth": 2
          }
         }
        },
        "xaxis": {
         "anchor": "y",
         "domain": [
          0,
          1
         ],
         "title": {
          "text": "time"
         }
        },
        "yaxis": {
         "anchor": "x",
         "domain": [
          0,
          1
         ],
         "title": {
          "text": "count"
         }
        }
       }
      }
     },
     "metadata": {},
     "output_type": "display_data"
    },
    {
     "data": {
      "application/vnd.plotly.v1+json": {
       "config": {
        "plotlyServerURL": "https://plot.ly"
       },
       "data": [
        {
         "alignmentgroup": "True",
         "customdata": [
          [
           "Why New Congress upcoming hearings are NOT Rino, U",
           0,
           "CNN",
           "2023-01-15T16:40:30Z",
           "Zak",
           "UC8OprD40tUc9AyL9NDmOv0w"
          ],
          [
           "MAGA candidates 264 primary wins in 2022 to McCart",
           0,
           "CNN",
           "2023-01-15T16:42:29Z",
           "Zak",
           "UC8OprD40tUc9AyL9NDmOv0w"
          ],
          [
           "Paul Rino says \"if American Patriots would give in",
           0,
           "CNN",
           "2023-01-15T16:47:31Z",
           "Zak",
           "UC8OprD40tUc9AyL9NDmOv0w"
          ],
          [
           "Paul Ryan should watch Documentaries on FOUNDERS. ",
           0,
           "CNN",
           "2023-01-15T16:49:01Z",
           "Zak",
           "UC8OprD40tUc9AyL9NDmOv0w"
          ],
          [
           "It's clear Sunday morning Communist TV political s",
           0,
           "CNN",
           "2023-01-15T16:50:36Z",
           "Zak",
           "UC8OprD40tUc9AyL9NDmOv0w"
          ],
          [
           "One Sunday morning C-SPAN pundit owes $250,000 stu",
           0,
           "CNN",
           "2023-01-15T16:52:24Z",
           "Zak",
           "UC8OprD40tUc9AyL9NDmOv0w"
          ],
          [
           "Obama said all he did in college was smoke pot dri",
           0,
           "CNN",
           "2023-01-15T16:53:53Z",
           "Zak",
           "UC8OprD40tUc9AyL9NDmOv0w"
          ]
         ],
         "hovertemplate": "videoId=0030kBNfy5w<br>time=%{x}<br>count=%{y}<br>summ=%{customdata[0]}<br>likeCount=%{customdata[1]}<br>channelName=%{customdata[2]}<br>publishedAt=%{customdata[3]}<br>authorDisplayName=%{customdata[4]}<br>authorChannelId=%{customdata[5]}<extra></extra>",
         "legendgroup": "0030kBNfy5w",
         "marker": {
          "color": "#636efa",
          "pattern": {
           "shape": ""
          }
         },
         "name": "0030kBNfy5w",
         "offsetgroup": "0030kBNfy5w",
         "orientation": "v",
         "showlegend": true,
         "textposition": "auto",
         "type": "bar",
         "x": [
          "2023-01-15T16:30:00+00:00",
          "2023-01-15T16:30:00+00:00",
          "2023-01-15T16:30:00+00:00",
          "2023-01-15T16:30:00+00:00",
          "2023-01-15T16:30:00+00:00",
          "2023-01-15T16:30:00+00:00",
          "2023-01-15T16:30:00+00:00"
         ],
         "xaxis": "x",
         "y": [
          1,
          1,
          1,
          1,
          1,
          1,
          1
         ],
         "yaxis": "y"
        },
        {
         "alignmentgroup": "True",
         "customdata": [
          [
           "Isn't this like watching a BAD comedy show and the",
           0,
           "Fox News",
           "2023-01-16T16:32:21Z",
           "Zak",
           "UC8OprD40tUc9AyL9NDmOv0w"
          ],
          [
           "How long can that tootsie role last?",
           0,
           "Fox News",
           "2023-01-16T16:33:16Z",
           "Zak",
           "UC8OprD40tUc9AyL9NDmOv0w"
          ],
          [
           "Are intelligent people to continue watching this a",
           0,
           "Fox News",
           "2023-01-16T16:34:32Z",
           "Zak",
           "UC8OprD40tUc9AyL9NDmOv0w"
          ]
         ],
         "hovertemplate": "videoId=V9LzsDfV4sY<br>time=%{x}<br>count=%{y}<br>summ=%{customdata[0]}<br>likeCount=%{customdata[1]}<br>channelName=%{customdata[2]}<br>publishedAt=%{customdata[3]}<br>authorDisplayName=%{customdata[4]}<br>authorChannelId=%{customdata[5]}<extra></extra>",
         "legendgroup": "V9LzsDfV4sY",
         "marker": {
          "color": "#EF553B",
          "pattern": {
           "shape": ""
          }
         },
         "name": "V9LzsDfV4sY",
         "offsetgroup": "V9LzsDfV4sY",
         "orientation": "v",
         "showlegend": true,
         "textposition": "auto",
         "type": "bar",
         "x": [
          "2023-01-16T16:30:00+00:00",
          "2023-01-16T16:30:00+00:00",
          "2023-01-16T16:30:00+00:00"
         ],
         "xaxis": "x",
         "y": [
          1,
          1,
          1
         ],
         "yaxis": "y"
        },
        {
         "alignmentgroup": "True",
         "customdata": [
          [
           "Marxist Democrats 100 years U.S. takeover STOPPED.",
           0,
           "Fox News",
           "2023-01-16T18:01:54Z",
           "Zak",
           "UC8OprD40tUc9AyL9NDmOv0w"
          ]
         ],
         "hovertemplate": "videoId=4aStZ6i3mcg<br>time=%{x}<br>count=%{y}<br>summ=%{customdata[0]}<br>likeCount=%{customdata[1]}<br>channelName=%{customdata[2]}<br>publishedAt=%{customdata[3]}<br>authorDisplayName=%{customdata[4]}<br>authorChannelId=%{customdata[5]}<extra></extra>",
         "legendgroup": "4aStZ6i3mcg",
         "marker": {
          "color": "#00cc96",
          "pattern": {
           "shape": ""
          }
         },
         "name": "4aStZ6i3mcg",
         "offsetgroup": "4aStZ6i3mcg",
         "orientation": "v",
         "showlegend": true,
         "textposition": "auto",
         "type": "bar",
         "x": [
          "2023-01-16T18:00:00+00:00"
         ],
         "xaxis": "x",
         "y": [
          1
         ],
         "yaxis": "y"
        },
        {
         "alignmentgroup": "True",
         "customdata": [
          [
           "If All Out Crazy's voters agree to that IN HER dis",
           0,
           "Fox News",
           "2023-01-16T20:06:26Z",
           "Zak",
           "UC8OprD40tUc9AyL9NDmOv0w"
          ],
          [
           "Guess what happens in Baltimore when non family me",
           0,
           "Fox News",
           "2023-01-16T20:07:45Z",
           "Zak",
           "UC8OprD40tUc9AyL9NDmOv0w"
          ],
          [
           "Please why don't a Drag Queen, read the Declaratio",
           0,
           "Fox News",
           "2023-01-16T20:09:55Z",
           "Zak",
           "UC8OprD40tUc9AyL9NDmOv0w"
          ],
          [
           "For what AOC, Biden, Obama  Marxists do. Americans",
           0,
           "Fox News",
           "2023-01-16T20:12:31Z",
           "Zak",
           "UC8OprD40tUc9AyL9NDmOv0w"
          ],
          [
           "Traitor Obama General \"Coup\" Mark Milley was going",
           0,
           "Fox News",
           "2023-01-16T20:15:27Z",
           "Zak",
           "UC8OprD40tUc9AyL9NDmOv0w"
          ],
          [
           "All these DUMB Communists really think Americans w",
           0,
           "Fox News",
           "2023-01-16T20:17:35Z",
           "Zak",
           "UC8OprD40tUc9AyL9NDmOv0w"
          ]
         ],
         "hovertemplate": "videoId=Zp4x9RVOPzY<br>time=%{x}<br>count=%{y}<br>summ=%{customdata[0]}<br>likeCount=%{customdata[1]}<br>channelName=%{customdata[2]}<br>publishedAt=%{customdata[3]}<br>authorDisplayName=%{customdata[4]}<br>authorChannelId=%{customdata[5]}<extra></extra>",
         "legendgroup": "Zp4x9RVOPzY",
         "marker": {
          "color": "#ab63fa",
          "pattern": {
           "shape": ""
          }
         },
         "name": "Zp4x9RVOPzY",
         "offsetgroup": "Zp4x9RVOPzY",
         "orientation": "v",
         "showlegend": true,
         "textposition": "auto",
         "type": "bar",
         "x": [
          "2023-01-16T20:00:00+00:00",
          "2023-01-16T20:00:00+00:00",
          "2023-01-16T20:00:00+00:00",
          "2023-01-16T20:00:00+00:00",
          "2023-01-16T20:00:00+00:00",
          "2023-01-16T20:00:00+00:00"
         ],
         "xaxis": "x",
         "y": [
          1,
          1,
          1,
          1,
          1,
          1
         ],
         "yaxis": "y"
        },
        {
         "alignmentgroup": "True",
         "customdata": [
          [
           "Bribe Republicans too.",
           0,
           "CNN",
           "2023-01-16T20:50:40Z",
           "Zak",
           "UC8OprD40tUc9AyL9NDmOv0w"
          ],
          [
           "Joe can't afford to let Ukraine win. Because Putin",
           0,
           "CNN",
           "2023-01-16T20:51:34Z",
           "Zak",
           "UC8OprD40tUc9AyL9NDmOv0w"
          ]
         ],
         "hovertemplate": "videoId=qOl4h0fRXtg<br>time=%{x}<br>count=%{y}<br>summ=%{customdata[0]}<br>likeCount=%{customdata[1]}<br>channelName=%{customdata[2]}<br>publishedAt=%{customdata[3]}<br>authorDisplayName=%{customdata[4]}<br>authorChannelId=%{customdata[5]}<extra></extra>",
         "legendgroup": "qOl4h0fRXtg",
         "marker": {
          "color": "#FFA15A",
          "pattern": {
           "shape": ""
          }
         },
         "name": "qOl4h0fRXtg",
         "offsetgroup": "qOl4h0fRXtg",
         "orientation": "v",
         "showlegend": true,
         "textposition": "auto",
         "type": "bar",
         "x": [
          "2023-01-16T20:30:00+00:00",
          "2023-01-16T20:30:00+00:00"
         ],
         "xaxis": "x",
         "y": [
          1,
          1
         ],
         "yaxis": "y"
        },
        {
         "alignmentgroup": "True",
         "customdata": [
          [
           "Calling one a racist IS A COMMIE HATE CRIME.",
           0,
           "Fox News",
           "2023-01-16T21:04:49Z",
           "Zak",
           "UC8OprD40tUc9AyL9NDmOv0w"
          ],
          [
           "Putin awarded Al Sharpton with high Marxist Honor.",
           3,
           "Fox News",
           "2023-01-16T21:06:31Z",
           "Zak",
           "UC8OprD40tUc9AyL9NDmOv0w"
          ],
          [
           "Let's all unite. And celebrate differences and div",
           1,
           "Fox News",
           "2023-01-16T21:10:51Z",
           "Zak",
           "UC8OprD40tUc9AyL9NDmOv0w"
          ],
          [
           "Whites, boycott Communism. Tell  NHL your setting ",
           0,
           "Fox News",
           "2023-01-16T21:16:49Z",
           "Zak",
           "UC8OprD40tUc9AyL9NDmOv0w"
          ],
          [
           "If ALL whites boycotted NHL it would not be able t",
           0,
           "Fox News",
           "2023-01-16T21:17:52Z",
           "Zak",
           "UC8OprD40tUc9AyL9NDmOv0w"
          ],
          [
           "Black Jamaican told me I owed him Reparations. I s",
           3,
           "Fox News",
           "2023-01-16T21:22:50Z",
           "Zak",
           "UC8OprD40tUc9AyL9NDmOv0w"
          ],
          [
           "Black Jamaican told me I owed him Reparations. I s",
           1,
           "Fox News",
           "2023-01-16T21:22:50Z",
           "Zak",
           "UC8OprD40tUc9AyL9NDmOv0w"
          ]
         ],
         "hovertemplate": "videoId=d8n8MLy0Bt0<br>time=%{x}<br>count=%{y}<br>summ=%{customdata[0]}<br>likeCount=%{customdata[1]}<br>channelName=%{customdata[2]}<br>publishedAt=%{customdata[3]}<br>authorDisplayName=%{customdata[4]}<br>authorChannelId=%{customdata[5]}<extra></extra>",
         "legendgroup": "d8n8MLy0Bt0",
         "marker": {
          "color": "#19d3f3",
          "pattern": {
           "shape": ""
          }
         },
         "name": "d8n8MLy0Bt0",
         "offsetgroup": "d8n8MLy0Bt0",
         "orientation": "v",
         "showlegend": true,
         "textposition": "auto",
         "type": "bar",
         "x": [
          "2023-01-16T21:00:00+00:00",
          "2023-01-16T21:00:00+00:00",
          "2023-01-16T21:00:00+00:00",
          "2023-01-16T21:00:00+00:00",
          "2023-01-16T21:00:00+00:00",
          "2023-01-16T21:00:00+00:00",
          "2023-01-16T21:00:00+00:00"
         ],
         "xaxis": "x",
         "y": [
          1,
          1,
          1,
          1,
          1,
          1,
          1
         ],
         "yaxis": "y"
        },
        {
         "alignmentgroup": "True",
         "customdata": [
          [
           "Robert Herr's Trump hatred is so well  known by la",
           0,
           "Fox News",
           "2023-01-16T21:35:17Z",
           "Zak",
           "UC8OprD40tUc9AyL9NDmOv0w"
          ],
          [
           "SANTOS CAN UNDER \"HOUSE RULES\" CHARGE ADAM SCIFF W",
           0,
           "Fox News",
           "2023-01-16T21:38:05Z",
           "Zak",
           "UC8OprD40tUc9AyL9NDmOv0w"
          ],
          [
           "EMOLUMENTS, Art 1, section 9, clause 8. Says as VP",
           0,
           "Fox News",
           "2023-01-16T21:40:27Z",
           "Zak",
           "UC8OprD40tUc9AyL9NDmOv0w"
          ],
          [
           "Congress established office of Attorney General. H",
           0,
           "Fox News",
           "2023-01-16T21:44:08Z",
           "Zak",
           "UC8OprD40tUc9AyL9NDmOv0w"
          ]
         ],
         "hovertemplate": "videoId=n9JJcXFiYBE<br>time=%{x}<br>count=%{y}<br>summ=%{customdata[0]}<br>likeCount=%{customdata[1]}<br>channelName=%{customdata[2]}<br>publishedAt=%{customdata[3]}<br>authorDisplayName=%{customdata[4]}<br>authorChannelId=%{customdata[5]}<extra></extra>",
         "legendgroup": "n9JJcXFiYBE",
         "marker": {
          "color": "#FF6692",
          "pattern": {
           "shape": ""
          }
         },
         "name": "n9JJcXFiYBE",
         "offsetgroup": "n9JJcXFiYBE",
         "orientation": "v",
         "showlegend": true,
         "textposition": "auto",
         "type": "bar",
         "x": [
          "2023-01-16T21:30:00+00:00",
          "2023-01-16T21:30:00+00:00",
          "2023-01-16T21:30:00+00:00",
          "2023-01-16T21:30:00+00:00"
         ],
         "xaxis": "x",
         "y": [
          1,
          1,
          1,
          1
         ],
         "yaxis": "y"
        },
        {
         "alignmentgroup": "True",
         "customdata": [
          [
           "ALL THE DEM MEDIAS 'AS ORDERED\",  DUMPING  BIDEN \"",
           1,
           "Fox News",
           "2023-01-16T22:03:45Z",
           "Zak",
           "UC8OprD40tUc9AyL9NDmOv0w"
          ],
          [
           "Joe should ask China, Ukraine, Russia, Iran for al",
           6,
           "Fox News",
           "2023-01-16T22:04:42Z",
           "Zak",
           "UC8OprD40tUc9AyL9NDmOv0w"
          ],
          [
           "Joe should ask China, Ukraine, Russia, Iran for al",
           20,
           "Fox News",
           "2023-01-16T22:04:42Z",
           "Zak",
           "UC8OprD40tUc9AyL9NDmOv0w"
          ],
          [
           "WAS HIGH SPEED PAPER SHREDDER DELIVERED TO HUNTER ",
           0,
           "Fox News",
           "2023-01-16T22:06:49Z",
           "Zak",
           "UC8OprD40tUc9AyL9NDmOv0w"
          ],
          [
           "Did Hunter Biden have Chinese, Iran, Ukraine, Russ",
           1,
           "Fox News",
           "2023-01-16T22:08:11Z",
           "Zak",
           "UC8OprD40tUc9AyL9NDmOv0w"
          ],
          [
           "What's the fuss about Biden is a criminal Marxist ",
           0,
           "Fox News",
           "2023-01-16T22:10:18Z",
           "Zak",
           "UC8OprD40tUc9AyL9NDmOv0w"
          ],
          [
           "A GOP Texas Congressman on Cavuto said if Biden do",
           1,
           "Fox News",
           "2023-01-16T22:15:01Z",
           "Zak",
           "UC8OprD40tUc9AyL9NDmOv0w"
          ],
          [
           "To Texas Rino GOP on Cavuto. Bobalinkski said \"Bid",
           0,
           "Fox News",
           "2023-01-16T22:17:14Z",
           "Zak",
           "UC8OprD40tUc9AyL9NDmOv0w"
          ],
          [
           "AMERICA NEEDS \"PALMER RAIDS\" ROUND UP CRIMINALS AN",
           0,
           "Fox News",
           "2023-01-16T22:23:02Z",
           "Zak",
           "UC8OprD40tUc9AyL9NDmOv0w"
          ],
          [
           "L.A. Police should stand down, walk out quit. Relo",
           0,
           "Fox News",
           "2023-01-16T22:26:11Z",
           "Zak",
           "UC8OprD40tUc9AyL9NDmOv0w"
          ],
          [
           "Calling someone a racist is a Hate Crime can be 10",
           0,
           "Fox News",
           "2023-01-16T22:27:36Z",
           "Zak",
           "UC8OprD40tUc9AyL9NDmOv0w"
          ],
          [
           "If your college grad working in government jobs us",
           0,
           "Fox News",
           "2023-01-16T22:28:33Z",
           "Zak",
           "UC8OprD40tUc9AyL9NDmOv0w"
          ]
         ],
         "hovertemplate": "videoId=A40xDj6TyB8<br>time=%{x}<br>count=%{y}<br>summ=%{customdata[0]}<br>likeCount=%{customdata[1]}<br>channelName=%{customdata[2]}<br>publishedAt=%{customdata[3]}<br>authorDisplayName=%{customdata[4]}<br>authorChannelId=%{customdata[5]}<extra></extra>",
         "legendgroup": "A40xDj6TyB8",
         "marker": {
          "color": "#B6E880",
          "pattern": {
           "shape": ""
          }
         },
         "name": "A40xDj6TyB8",
         "offsetgroup": "A40xDj6TyB8",
         "orientation": "v",
         "showlegend": true,
         "textposition": "auto",
         "type": "bar",
         "x": [
          "2023-01-16T22:00:00+00:00",
          "2023-01-16T22:00:00+00:00",
          "2023-01-16T22:00:00+00:00",
          "2023-01-16T22:00:00+00:00",
          "2023-01-16T22:00:00+00:00",
          "2023-01-16T22:00:00+00:00",
          "2023-01-16T22:00:00+00:00",
          "2023-01-16T22:00:00+00:00",
          "2023-01-16T22:00:00+00:00",
          "2023-01-16T22:00:00+00:00",
          "2023-01-16T22:00:00+00:00",
          "2023-01-16T22:00:00+00:00"
         ],
         "xaxis": "x",
         "y": [
          1,
          1,
          1,
          1,
          1,
          1,
          1,
          1,
          1,
          1,
          1,
          1
         ],
         "yaxis": "y"
        },
        {
         "alignmentgroup": "True",
         "customdata": [
          [
           "Kick backs, kick backs, kick backs to Democrats.",
           0,
           "CNN",
           "2023-01-16T23:06:17Z",
           "Zak",
           "UC8OprD40tUc9AyL9NDmOv0w"
          ],
          [
           "Joe don't want Ukraine to win.",
           0,
           "CNN",
           "2023-01-16T23:06:52Z",
           "Zak",
           "UC8OprD40tUc9AyL9NDmOv0w"
          ],
          [
           "White House says no records of Biden Delaware visi",
           0,
           "CNN",
           "2023-01-16T23:08:14Z",
           "Zak",
           "UC8OprD40tUc9AyL9NDmOv0w"
          ]
         ],
         "hovertemplate": "videoId=K2erFXx8PrU<br>time=%{x}<br>count=%{y}<br>summ=%{customdata[0]}<br>likeCount=%{customdata[1]}<br>channelName=%{customdata[2]}<br>publishedAt=%{customdata[3]}<br>authorDisplayName=%{customdata[4]}<br>authorChannelId=%{customdata[5]}<extra></extra>",
         "legendgroup": "K2erFXx8PrU",
         "marker": {
          "color": "#FF97FF",
          "pattern": {
           "shape": ""
          }
         },
         "name": "K2erFXx8PrU",
         "offsetgroup": "K2erFXx8PrU",
         "orientation": "v",
         "showlegend": true,
         "textposition": "auto",
         "type": "bar",
         "x": [
          "2023-01-16T23:00:00+00:00",
          "2023-01-16T23:00:00+00:00",
          "2023-01-16T23:00:00+00:00"
         ],
         "xaxis": "x",
         "y": [
          1,
          1,
          1
         ],
         "yaxis": "y"
        },
        {
         "alignmentgroup": "True",
         "customdata": [
          [
           "White House says no visitor records were kept at p",
           0,
           "Fox News",
           "2023-01-16T23:10:08Z",
           "Zak",
           "UC8OprD40tUc9AyL9NDmOv0w"
          ],
          [
           "Subpoena visitor records of Hunter Biden Delaware ",
           0,
           "Fox News",
           "2023-01-16T23:12:15Z",
           "Zak",
           "UC8OprD40tUc9AyL9NDmOv0w"
          ]
         ],
         "hovertemplate": "videoId=RCwykAbGU40<br>time=%{x}<br>count=%{y}<br>summ=%{customdata[0]}<br>likeCount=%{customdata[1]}<br>channelName=%{customdata[2]}<br>publishedAt=%{customdata[3]}<br>authorDisplayName=%{customdata[4]}<br>authorChannelId=%{customdata[5]}<extra></extra>",
         "legendgroup": "RCwykAbGU40",
         "marker": {
          "color": "#FECB52",
          "pattern": {
           "shape": ""
          }
         },
         "name": "RCwykAbGU40",
         "offsetgroup": "RCwykAbGU40",
         "orientation": "v",
         "showlegend": true,
         "textposition": "auto",
         "type": "bar",
         "x": [
          "2023-01-16T23:00:00+00:00",
          "2023-01-16T23:00:00+00:00"
         ],
         "xaxis": "x",
         "y": [
          1,
          1
         ],
         "yaxis": "y"
        },
        {
         "alignmentgroup": "True",
         "customdata": [
          [
           "Reports Hunter listed as owner of home where Joe B",
           0,
           "Fox News",
           "2023-01-16T23:33:04Z",
           "Zak",
           "UC8OprD40tUc9AyL9NDmOv0w"
          ],
          [
           "Does Hunter Biden have  classified documents privi",
           0,
           "Fox News",
           "2023-01-16T23:33:53Z",
           "Zak",
           "UC8OprD40tUc9AyL9NDmOv0w"
          ],
          [
           "2017 Delaware, Biden \"Hunter I'm home, I got more ",
           0,
           "Fox News",
           "2023-01-16T23:40:00Z",
           "Zak",
           "UC8OprD40tUc9AyL9NDmOv0w"
          ],
          [
           "Is it True Garland never subpoenaed or SWATTED Hun",
           0,
           "Fox News",
           "2023-01-17T00:59:50Z",
           "Zak",
           "UC8OprD40tUc9AyL9NDmOv0w"
          ],
          [
           "WERE THEY OBAMA'S DOCUMENTS? HUNTER'S NAME WAS ON ",
           0,
           "Fox News",
           "2023-01-17T01:01:58Z",
           "Zak",
           "UC8OprD40tUc9AyL9NDmOv0w"
          ],
          [
           "Scarborough caught a wave going in other direction",
           0,
           "Fox News",
           "2023-01-17T01:03:07Z",
           "Zak",
           "UC8OprD40tUc9AyL9NDmOv0w"
          ]
         ],
         "hovertemplate": "videoId=HJedAl3ksVg<br>time=%{x}<br>count=%{y}<br>summ=%{customdata[0]}<br>likeCount=%{customdata[1]}<br>channelName=%{customdata[2]}<br>publishedAt=%{customdata[3]}<br>authorDisplayName=%{customdata[4]}<br>authorChannelId=%{customdata[5]}<extra></extra>",
         "legendgroup": "HJedAl3ksVg",
         "marker": {
          "color": "#636efa",
          "pattern": {
           "shape": ""
          }
         },
         "name": "HJedAl3ksVg",
         "offsetgroup": "HJedAl3ksVg",
         "orientation": "v",
         "showlegend": true,
         "textposition": "auto",
         "type": "bar",
         "x": [
          "2023-01-16T23:30:00+00:00",
          "2023-01-16T23:30:00+00:00",
          "2023-01-16T23:30:00+00:00",
          "2023-01-17T00:30:00+00:00",
          "2023-01-17T01:00:00+00:00",
          "2023-01-17T01:00:00+00:00"
         ],
         "xaxis": "x",
         "y": [
          1,
          1,
          1,
          1,
          1,
          1
         ],
         "yaxis": "y"
        },
        {
         "alignmentgroup": "True",
         "customdata": [
          [
           "Santos and McCarthy should demand Adam Schiff resi",
           1,
           "CNN",
           "2023-01-16T23:41:51Z",
           "Zak",
           "UC8OprD40tUc9AyL9NDmOv0w"
          ],
          [
           "McCarthy Don't get distracted by Dem commie report",
           0,
           "CNN",
           "2023-01-16T23:45:21Z",
           "Zak",
           "UC8OprD40tUc9AyL9NDmOv0w"
          ],
          [
           "McCarthy get started. More Mr. Nice guy. They fini",
           0,
           "CNN",
           "2023-01-16T23:46:47Z",
           "Zak",
           "UC8OprD40tUc9AyL9NDmOv0w"
          ],
          [
           "McCarthy be fair, lawful, tough, your dealing with",
           0,
           "CNN",
           "2023-01-16T23:47:56Z",
           "Zak",
           "UC8OprD40tUc9AyL9NDmOv0w"
          ],
          [
           "IF COVID WAS A CONCERN 5 MILLION ILLEGAL INVADERS ",
           0,
           "CNN",
           "2023-01-16T23:48:58Z",
           "Zak",
           "UC8OprD40tUc9AyL9NDmOv0w"
          ],
          [
           "When was last time Marxist Dems resigned over anyt",
           0,
           "CNN",
           "2023-01-16T23:54:13Z",
           "Zak",
           "UC8OprD40tUc9AyL9NDmOv0w"
          ],
          [
           "Biden lied. Santos should resign after Biden and S",
           0,
           "CNN",
           "2023-01-16T23:55:53Z",
           "Zak",
           "UC8OprD40tUc9AyL9NDmOv0w"
          ],
          [
           "WH POS said no visitor records at Hunter's home. P",
           0,
           "CNN",
           "2023-01-16T23:57:57Z",
           "Zak",
           "UC8OprD40tUc9AyL9NDmOv0w"
          ],
          [
           "What were years Hunter was listed as owner or rent",
           1,
           "CNN",
           "2023-01-16T23:58:53Z",
           "Zak",
           "UC8OprD40tUc9AyL9NDmOv0w"
          ],
          [
           "Dem TV \"reporters\"  Marxism 101 deflect, 102 proje",
           0,
           "CNN",
           "2023-01-17T00:01:36Z",
           "Zak",
           "UC8OprD40tUc9AyL9NDmOv0w"
          ],
          [
           "LIES: China Joe \"I was riding on the Mayflower whe",
           0,
           "CNN",
           "2023-01-17T00:05:11Z",
           "Zak",
           "UC8OprD40tUc9AyL9NDmOv0w"
          ],
          [
           "Lies by Biden: Note:  will take generations to rec",
           1,
           "CNN",
           "2023-01-17T00:08:10Z",
           "Zak",
           "UC8OprD40tUc9AyL9NDmOv0w"
          ],
          [
           "Don't forget Trump once had 2 scoops of ice cream.",
           0,
           "CNN",
           "2023-01-17T00:11:04Z",
           "Zak",
           "UC8OprD40tUc9AyL9NDmOv0w"
          ],
          [
           "Robert Herr had INSTANT TEAM. FASTER THAN FAST. Be",
           0,
           "CNN",
           "2023-01-17T00:13:00Z",
           "Zak",
           "UC8OprD40tUc9AyL9NDmOv0w"
          ],
          [
           "Garland open a bottle of ACME INSTANT OVERNIGHT SP",
           0,
           "CNN",
           "2023-01-17T00:15:50Z",
           "Zak",
           "UC8OprD40tUc9AyL9NDmOv0w"
          ],
          [
           "How did Robert Herr have INSTANT OVERNIGHT SPECIAL",
           0,
           "CNN",
           "2023-01-17T00:18:17Z",
           "Zak",
           "UC8OprD40tUc9AyL9NDmOv0w"
          ]
         ],
         "hovertemplate": "videoId=GSqmV18H0YE<br>time=%{x}<br>count=%{y}<br>summ=%{customdata[0]}<br>likeCount=%{customdata[1]}<br>channelName=%{customdata[2]}<br>publishedAt=%{customdata[3]}<br>authorDisplayName=%{customdata[4]}<br>authorChannelId=%{customdata[5]}<extra></extra>",
         "legendgroup": "GSqmV18H0YE",
         "marker": {
          "color": "#EF553B",
          "pattern": {
           "shape": ""
          }
         },
         "name": "GSqmV18H0YE",
         "offsetgroup": "GSqmV18H0YE",
         "orientation": "v",
         "showlegend": true,
         "textposition": "auto",
         "type": "bar",
         "x": [
          "2023-01-16T23:30:00+00:00",
          "2023-01-16T23:30:00+00:00",
          "2023-01-16T23:30:00+00:00",
          "2023-01-16T23:30:00+00:00",
          "2023-01-16T23:30:00+00:00",
          "2023-01-16T23:30:00+00:00",
          "2023-01-16T23:30:00+00:00",
          "2023-01-16T23:30:00+00:00",
          "2023-01-16T23:30:00+00:00",
          "2023-01-17T00:00:00+00:00",
          "2023-01-17T00:00:00+00:00",
          "2023-01-17T00:00:00+00:00",
          "2023-01-17T00:00:00+00:00",
          "2023-01-17T00:00:00+00:00",
          "2023-01-17T00:00:00+00:00",
          "2023-01-17T00:00:00+00:00"
         ],
         "xaxis": "x",
         "y": [
          1,
          1,
          1,
          1,
          1,
          1,
          1,
          1,
          1,
          1,
          1,
          1,
          1,
          1,
          1,
          1
         ],
         "yaxis": "y"
        }
       ],
       "layout": {
        "barmode": "relative",
        "legend": {
         "title": {
          "text": "videoId"
         },
         "tracegroupgap": 0
        },
        "margin": {
         "t": 60
        },
        "template": {
         "data": {
          "bar": [
           {
            "error_x": {
             "color": "#2a3f5f"
            },
            "error_y": {
             "color": "#2a3f5f"
            },
            "marker": {
             "line": {
              "color": "#E5ECF6",
              "width": 0.5
             },
             "pattern": {
              "fillmode": "overlay",
              "size": 10,
              "solidity": 0.2
             }
            },
            "type": "bar"
           }
          ],
          "barpolar": [
           {
            "marker": {
             "line": {
              "color": "#E5ECF6",
              "width": 0.5
             },
             "pattern": {
              "fillmode": "overlay",
              "size": 10,
              "solidity": 0.2
             }
            },
            "type": "barpolar"
           }
          ],
          "carpet": [
           {
            "aaxis": {
             "endlinecolor": "#2a3f5f",
             "gridcolor": "white",
             "linecolor": "white",
             "minorgridcolor": "white",
             "startlinecolor": "#2a3f5f"
            },
            "baxis": {
             "endlinecolor": "#2a3f5f",
             "gridcolor": "white",
             "linecolor": "white",
             "minorgridcolor": "white",
             "startlinecolor": "#2a3f5f"
            },
            "type": "carpet"
           }
          ],
          "choropleth": [
           {
            "colorbar": {
             "outlinewidth": 0,
             "ticks": ""
            },
            "type": "choropleth"
           }
          ],
          "contour": [
           {
            "colorbar": {
             "outlinewidth": 0,
             "ticks": ""
            },
            "colorscale": [
             [
              0,
              "#0d0887"
             ],
             [
              0.1111111111111111,
              "#46039f"
             ],
             [
              0.2222222222222222,
              "#7201a8"
             ],
             [
              0.3333333333333333,
              "#9c179e"
             ],
             [
              0.4444444444444444,
              "#bd3786"
             ],
             [
              0.5555555555555556,
              "#d8576b"
             ],
             [
              0.6666666666666666,
              "#ed7953"
             ],
             [
              0.7777777777777778,
              "#fb9f3a"
             ],
             [
              0.8888888888888888,
              "#fdca26"
             ],
             [
              1,
              "#f0f921"
             ]
            ],
            "type": "contour"
           }
          ],
          "contourcarpet": [
           {
            "colorbar": {
             "outlinewidth": 0,
             "ticks": ""
            },
            "type": "contourcarpet"
           }
          ],
          "heatmap": [
           {
            "colorbar": {
             "outlinewidth": 0,
             "ticks": ""
            },
            "colorscale": [
             [
              0,
              "#0d0887"
             ],
             [
              0.1111111111111111,
              "#46039f"
             ],
             [
              0.2222222222222222,
              "#7201a8"
             ],
             [
              0.3333333333333333,
              "#9c179e"
             ],
             [
              0.4444444444444444,
              "#bd3786"
             ],
             [
              0.5555555555555556,
              "#d8576b"
             ],
             [
              0.6666666666666666,
              "#ed7953"
             ],
             [
              0.7777777777777778,
              "#fb9f3a"
             ],
             [
              0.8888888888888888,
              "#fdca26"
             ],
             [
              1,
              "#f0f921"
             ]
            ],
            "type": "heatmap"
           }
          ],
          "heatmapgl": [
           {
            "colorbar": {
             "outlinewidth": 0,
             "ticks": ""
            },
            "colorscale": [
             [
              0,
              "#0d0887"
             ],
             [
              0.1111111111111111,
              "#46039f"
             ],
             [
              0.2222222222222222,
              "#7201a8"
             ],
             [
              0.3333333333333333,
              "#9c179e"
             ],
             [
              0.4444444444444444,
              "#bd3786"
             ],
             [
              0.5555555555555556,
              "#d8576b"
             ],
             [
              0.6666666666666666,
              "#ed7953"
             ],
             [
              0.7777777777777778,
              "#fb9f3a"
             ],
             [
              0.8888888888888888,
              "#fdca26"
             ],
             [
              1,
              "#f0f921"
             ]
            ],
            "type": "heatmapgl"
           }
          ],
          "histogram": [
           {
            "marker": {
             "pattern": {
              "fillmode": "overlay",
              "size": 10,
              "solidity": 0.2
             }
            },
            "type": "histogram"
           }
          ],
          "histogram2d": [
           {
            "colorbar": {
             "outlinewidth": 0,
             "ticks": ""
            },
            "colorscale": [
             [
              0,
              "#0d0887"
             ],
             [
              0.1111111111111111,
              "#46039f"
             ],
             [
              0.2222222222222222,
              "#7201a8"
             ],
             [
              0.3333333333333333,
              "#9c179e"
             ],
             [
              0.4444444444444444,
              "#bd3786"
             ],
             [
              0.5555555555555556,
              "#d8576b"
             ],
             [
              0.6666666666666666,
              "#ed7953"
             ],
             [
              0.7777777777777778,
              "#fb9f3a"
             ],
             [
              0.8888888888888888,
              "#fdca26"
             ],
             [
              1,
              "#f0f921"
             ]
            ],
            "type": "histogram2d"
           }
          ],
          "histogram2dcontour": [
           {
            "colorbar": {
             "outlinewidth": 0,
             "ticks": ""
            },
            "colorscale": [
             [
              0,
              "#0d0887"
             ],
             [
              0.1111111111111111,
              "#46039f"
             ],
             [
              0.2222222222222222,
              "#7201a8"
             ],
             [
              0.3333333333333333,
              "#9c179e"
             ],
             [
              0.4444444444444444,
              "#bd3786"
             ],
             [
              0.5555555555555556,
              "#d8576b"
             ],
             [
              0.6666666666666666,
              "#ed7953"
             ],
             [
              0.7777777777777778,
              "#fb9f3a"
             ],
             [
              0.8888888888888888,
              "#fdca26"
             ],
             [
              1,
              "#f0f921"
             ]
            ],
            "type": "histogram2dcontour"
           }
          ],
          "mesh3d": [
           {
            "colorbar": {
             "outlinewidth": 0,
             "ticks": ""
            },
            "type": "mesh3d"
           }
          ],
          "parcoords": [
           {
            "line": {
             "colorbar": {
              "outlinewidth": 0,
              "ticks": ""
             }
            },
            "type": "parcoords"
           }
          ],
          "pie": [
           {
            "automargin": true,
            "type": "pie"
           }
          ],
          "scatter": [
           {
            "fillpattern": {
             "fillmode": "overlay",
             "size": 10,
             "solidity": 0.2
            },
            "type": "scatter"
           }
          ],
          "scatter3d": [
           {
            "line": {
             "colorbar": {
              "outlinewidth": 0,
              "ticks": ""
             }
            },
            "marker": {
             "colorbar": {
              "outlinewidth": 0,
              "ticks": ""
             }
            },
            "type": "scatter3d"
           }
          ],
          "scattercarpet": [
           {
            "marker": {
             "colorbar": {
              "outlinewidth": 0,
              "ticks": ""
             }
            },
            "type": "scattercarpet"
           }
          ],
          "scattergeo": [
           {
            "marker": {
             "colorbar": {
              "outlinewidth": 0,
              "ticks": ""
             }
            },
            "type": "scattergeo"
           }
          ],
          "scattergl": [
           {
            "marker": {
             "colorbar": {
              "outlinewidth": 0,
              "ticks": ""
             }
            },
            "type": "scattergl"
           }
          ],
          "scattermapbox": [
           {
            "marker": {
             "colorbar": {
              "outlinewidth": 0,
              "ticks": ""
             }
            },
            "type": "scattermapbox"
           }
          ],
          "scatterpolar": [
           {
            "marker": {
             "colorbar": {
              "outlinewidth": 0,
              "ticks": ""
             }
            },
            "type": "scatterpolar"
           }
          ],
          "scatterpolargl": [
           {
            "marker": {
             "colorbar": {
              "outlinewidth": 0,
              "ticks": ""
             }
            },
            "type": "scatterpolargl"
           }
          ],
          "scatterternary": [
           {
            "marker": {
             "colorbar": {
              "outlinewidth": 0,
              "ticks": ""
             }
            },
            "type": "scatterternary"
           }
          ],
          "surface": [
           {
            "colorbar": {
             "outlinewidth": 0,
             "ticks": ""
            },
            "colorscale": [
             [
              0,
              "#0d0887"
             ],
             [
              0.1111111111111111,
              "#46039f"
             ],
             [
              0.2222222222222222,
              "#7201a8"
             ],
             [
              0.3333333333333333,
              "#9c179e"
             ],
             [
              0.4444444444444444,
              "#bd3786"
             ],
             [
              0.5555555555555556,
              "#d8576b"
             ],
             [
              0.6666666666666666,
              "#ed7953"
             ],
             [
              0.7777777777777778,
              "#fb9f3a"
             ],
             [
              0.8888888888888888,
              "#fdca26"
             ],
             [
              1,
              "#f0f921"
             ]
            ],
            "type": "surface"
           }
          ],
          "table": [
           {
            "cells": {
             "fill": {
              "color": "#EBF0F8"
             },
             "line": {
              "color": "white"
             }
            },
            "header": {
             "fill": {
              "color": "#C8D4E3"
             },
             "line": {
              "color": "white"
             }
            },
            "type": "table"
           }
          ]
         },
         "layout": {
          "annotationdefaults": {
           "arrowcolor": "#2a3f5f",
           "arrowhead": 0,
           "arrowwidth": 1
          },
          "autotypenumbers": "strict",
          "coloraxis": {
           "colorbar": {
            "outlinewidth": 0,
            "ticks": ""
           }
          },
          "colorscale": {
           "diverging": [
            [
             0,
             "#8e0152"
            ],
            [
             0.1,
             "#c51b7d"
            ],
            [
             0.2,
             "#de77ae"
            ],
            [
             0.3,
             "#f1b6da"
            ],
            [
             0.4,
             "#fde0ef"
            ],
            [
             0.5,
             "#f7f7f7"
            ],
            [
             0.6,
             "#e6f5d0"
            ],
            [
             0.7,
             "#b8e186"
            ],
            [
             0.8,
             "#7fbc41"
            ],
            [
             0.9,
             "#4d9221"
            ],
            [
             1,
             "#276419"
            ]
           ],
           "sequential": [
            [
             0,
             "#0d0887"
            ],
            [
             0.1111111111111111,
             "#46039f"
            ],
            [
             0.2222222222222222,
             "#7201a8"
            ],
            [
             0.3333333333333333,
             "#9c179e"
            ],
            [
             0.4444444444444444,
             "#bd3786"
            ],
            [
             0.5555555555555556,
             "#d8576b"
            ],
            [
             0.6666666666666666,
             "#ed7953"
            ],
            [
             0.7777777777777778,
             "#fb9f3a"
            ],
            [
             0.8888888888888888,
             "#fdca26"
            ],
            [
             1,
             "#f0f921"
            ]
           ],
           "sequentialminus": [
            [
             0,
             "#0d0887"
            ],
            [
             0.1111111111111111,
             "#46039f"
            ],
            [
             0.2222222222222222,
             "#7201a8"
            ],
            [
             0.3333333333333333,
             "#9c179e"
            ],
            [
             0.4444444444444444,
             "#bd3786"
            ],
            [
             0.5555555555555556,
             "#d8576b"
            ],
            [
             0.6666666666666666,
             "#ed7953"
            ],
            [
             0.7777777777777778,
             "#fb9f3a"
            ],
            [
             0.8888888888888888,
             "#fdca26"
            ],
            [
             1,
             "#f0f921"
            ]
           ]
          },
          "colorway": [
           "#636efa",
           "#EF553B",
           "#00cc96",
           "#ab63fa",
           "#FFA15A",
           "#19d3f3",
           "#FF6692",
           "#B6E880",
           "#FF97FF",
           "#FECB52"
          ],
          "font": {
           "color": "#2a3f5f"
          },
          "geo": {
           "bgcolor": "white",
           "lakecolor": "white",
           "landcolor": "#E5ECF6",
           "showlakes": true,
           "showland": true,
           "subunitcolor": "white"
          },
          "hoverlabel": {
           "align": "left"
          },
          "hovermode": "closest",
          "mapbox": {
           "style": "light"
          },
          "paper_bgcolor": "white",
          "plot_bgcolor": "#E5ECF6",
          "polar": {
           "angularaxis": {
            "gridcolor": "white",
            "linecolor": "white",
            "ticks": ""
           },
           "bgcolor": "#E5ECF6",
           "radialaxis": {
            "gridcolor": "white",
            "linecolor": "white",
            "ticks": ""
           }
          },
          "scene": {
           "xaxis": {
            "backgroundcolor": "#E5ECF6",
            "gridcolor": "white",
            "gridwidth": 2,
            "linecolor": "white",
            "showbackground": true,
            "ticks": "",
            "zerolinecolor": "white"
           },
           "yaxis": {
            "backgroundcolor": "#E5ECF6",
            "gridcolor": "white",
            "gridwidth": 2,
            "linecolor": "white",
            "showbackground": true,
            "ticks": "",
            "zerolinecolor": "white"
           },
           "zaxis": {
            "backgroundcolor": "#E5ECF6",
            "gridcolor": "white",
            "gridwidth": 2,
            "linecolor": "white",
            "showbackground": true,
            "ticks": "",
            "zerolinecolor": "white"
           }
          },
          "shapedefaults": {
           "line": {
            "color": "#2a3f5f"
           }
          },
          "ternary": {
           "aaxis": {
            "gridcolor": "white",
            "linecolor": "white",
            "ticks": ""
           },
           "baxis": {
            "gridcolor": "white",
            "linecolor": "white",
            "ticks": ""
           },
           "bgcolor": "#E5ECF6",
           "caxis": {
            "gridcolor": "white",
            "linecolor": "white",
            "ticks": ""
           }
          },
          "title": {
           "x": 0.05
          },
          "xaxis": {
           "automargin": true,
           "gridcolor": "white",
           "linecolor": "white",
           "ticks": "",
           "title": {
            "standoff": 15
           },
           "zerolinecolor": "white",
           "zerolinewidth": 2
          },
          "yaxis": {
           "automargin": true,
           "gridcolor": "white",
           "linecolor": "white",
           "ticks": "",
           "title": {
            "standoff": 15
           },
           "zerolinecolor": "white",
           "zerolinewidth": 2
          }
         }
        },
        "xaxis": {
         "anchor": "y",
         "domain": [
          0,
          1
         ],
         "title": {
          "text": "time"
         }
        },
        "yaxis": {
         "anchor": "x",
         "domain": [
          0,
          1
         ],
         "title": {
          "text": "count"
         }
        }
       }
      }
     },
     "metadata": {},
     "output_type": "display_data"
    }
   ],
   "source": [
    "plot_most_prolific(df)\n"
   ]
  },
  {
   "attachments": {},
   "cell_type": "markdown",
   "metadata": {},
   "source": [
    "#### Get the list of authors by number of written comments"
   ]
  },
  {
   "cell_type": "code",
   "execution_count": 7,
   "metadata": {},
   "outputs": [
    {
     "data": {
      "text/html": [
       "<div>\n",
       "<style scoped>\n",
       "    .dataframe tbody tr th:only-of-type {\n",
       "        vertical-align: middle;\n",
       "    }\n",
       "\n",
       "    .dataframe tbody tr th {\n",
       "        vertical-align: top;\n",
       "    }\n",
       "\n",
       "    .dataframe thead th {\n",
       "        text-align: right;\n",
       "    }\n",
       "</style>\n",
       "<table border=\"1\" class=\"dataframe\">\n",
       "  <thead>\n",
       "    <tr style=\"text-align: right;\">\n",
       "      <th></th>\n",
       "      <th>authorDisplayName</th>\n",
       "      <th>authorChannelId</th>\n",
       "      <th>count</th>\n",
       "    </tr>\n",
       "  </thead>\n",
       "  <tbody>\n",
       "    <tr>\n",
       "      <th>0</th>\n",
       "      <td>Wajiha Sethi</td>\n",
       "      <td>UC0UbVaelFT_Z3Yh8D9ofxJQ</td>\n",
       "      <td>76</td>\n",
       "    </tr>\n",
       "    <tr>\n",
       "      <th>1</th>\n",
       "      <td>RR 56</td>\n",
       "      <td>UCSJ_tarrKDCILo1xZBH9T6g</td>\n",
       "      <td>58</td>\n",
       "    </tr>\n",
       "    <tr>\n",
       "      <th>2</th>\n",
       "      <td>Mine-Finder</td>\n",
       "      <td>UCP0u_9DjnlbR9lTBvmS2OrA</td>\n",
       "      <td>36</td>\n",
       "    </tr>\n",
       "    <tr>\n",
       "      <th>3</th>\n",
       "      <td>Zak</td>\n",
       "      <td>UC8OprD40tUc9AyL9NDmOv0w</td>\n",
       "      <td>28</td>\n",
       "    </tr>\n",
       "    <tr>\n",
       "      <th>4</th>\n",
       "      <td>iva taiwan</td>\n",
       "      <td>UCfA9LJ0pW7sV-phB2jEq6Fg</td>\n",
       "      <td>24</td>\n",
       "    </tr>\n",
       "    <tr>\n",
       "      <th>5</th>\n",
       "      <td>JourneyMan Smitty</td>\n",
       "      <td>UCzLjekZQGmOT7t32oDUvJTQ</td>\n",
       "      <td>21</td>\n",
       "    </tr>\n",
       "    <tr>\n",
       "      <th>6</th>\n",
       "      <td>DRIZZLE</td>\n",
       "      <td>UCIkCDg1IZYneowG47-0wjhQ</td>\n",
       "      <td>20</td>\n",
       "    </tr>\n",
       "    <tr>\n",
       "      <th>7</th>\n",
       "      <td>Todd Birman</td>\n",
       "      <td>UCIB_mMnkzAesPlGoeavA5cA</td>\n",
       "      <td>19</td>\n",
       "    </tr>\n",
       "    <tr>\n",
       "      <th>8</th>\n",
       "      <td>Joseph Sonora</td>\n",
       "      <td>UC3XEpDanrCsH_k3yxkq_hZg</td>\n",
       "      <td>19</td>\n",
       "    </tr>\n",
       "    <tr>\n",
       "      <th>9</th>\n",
       "      <td>Mark Lasky</td>\n",
       "      <td>UCBBvZ9jWvpU4An_-1FgOyng</td>\n",
       "      <td>19</td>\n",
       "    </tr>\n",
       "  </tbody>\n",
       "</table>\n",
       "</div>"
      ],
      "text/plain": [
       "   authorDisplayName           authorChannelId  count\n",
       "0       Wajiha Sethi  UC0UbVaelFT_Z3Yh8D9ofxJQ     76\n",
       "1              RR 56  UCSJ_tarrKDCILo1xZBH9T6g     58\n",
       "2        Mine-Finder  UCP0u_9DjnlbR9lTBvmS2OrA     36\n",
       "3                Zak  UC8OprD40tUc9AyL9NDmOv0w     28\n",
       "4         iva taiwan  UCfA9LJ0pW7sV-phB2jEq6Fg     24\n",
       "5  JourneyMan Smitty  UCzLjekZQGmOT7t32oDUvJTQ     21\n",
       "6            DRIZZLE  UCIkCDg1IZYneowG47-0wjhQ     20\n",
       "7        Todd Birman  UCIB_mMnkzAesPlGoeavA5cA     19\n",
       "8      Joseph Sonora  UC3XEpDanrCsH_k3yxkq_hZg     19\n",
       "9         Mark Lasky  UCBBvZ9jWvpU4An_-1FgOyng     19"
      ]
     },
     "execution_count": 7,
     "metadata": {},
     "output_type": "execute_result"
    }
   ],
   "source": [
    "top_commenters = get_top_commenters(df)\n",
    "top_commenters[0].head(10)"
   ]
  },
  {
   "attachments": {},
   "cell_type": "markdown",
   "metadata": {},
   "source": [
    "#### Get list of data frames with the comments of $n$ most prolific authors in each channel"
   ]
  },
  {
   "cell_type": "code",
   "execution_count": 8,
   "metadata": {},
   "outputs": [],
   "source": [
    "comments = get_comments(df, channelName=None, authorChannelId=None, top_authors=5)"
   ]
  },
  {
   "cell_type": "code",
   "execution_count": 9,
   "metadata": {},
   "outputs": [
    {
     "data": {
      "text/plain": [
       "15"
      ]
     },
     "execution_count": 9,
     "metadata": {},
     "output_type": "execute_result"
    }
   ],
   "source": [
    "len(comments)"
   ]
  },
  {
   "cell_type": "code",
   "execution_count": 10,
   "metadata": {},
   "outputs": [
    {
     "data": {
      "text/html": [
       "<div>\n",
       "<style scoped>\n",
       "    .dataframe tbody tr th:only-of-type {\n",
       "        vertical-align: middle;\n",
       "    }\n",
       "\n",
       "    .dataframe tbody tr th {\n",
       "        vertical-align: top;\n",
       "    }\n",
       "\n",
       "    .dataframe thead th {\n",
       "        text-align: right;\n",
       "    }\n",
       "</style>\n",
       "<table border=\"1\" class=\"dataframe\">\n",
       "  <thead>\n",
       "    <tr style=\"text-align: right;\">\n",
       "      <th></th>\n",
       "      <th>authorChannelId</th>\n",
       "      <th>authorDisplayName</th>\n",
       "      <th>channelId</th>\n",
       "      <th>textOriginal</th>\n",
       "    </tr>\n",
       "  </thead>\n",
       "  <tbody>\n",
       "    <tr>\n",
       "      <th>3781</th>\n",
       "      <td>UCSJ_tarrKDCILo1xZBH9T6g</td>\n",
       "      <td>RR 56</td>\n",
       "      <td>UCupvZG-5ko_eiXAupbDfxWw</td>\n",
       "      <td>AMERICA 🇺🇸 IS WAITING FOR THE LAPTOP FROM HELL...</td>\n",
       "    </tr>\n",
       "    <tr>\n",
       "      <th>3782</th>\n",
       "      <td>UCSJ_tarrKDCILo1xZBH9T6g</td>\n",
       "      <td>RR 56</td>\n",
       "      <td>UCupvZG-5ko_eiXAupbDfxWw</td>\n",
       "      <td>HILLARY CLINTON AND THE FBI PAID FOR THE RUSSI...</td>\n",
       "    </tr>\n",
       "    <tr>\n",
       "      <th>3797</th>\n",
       "      <td>UCSJ_tarrKDCILo1xZBH9T6g</td>\n",
       "      <td>RR 56</td>\n",
       "      <td>UCupvZG-5ko_eiXAupbDfxWw</td>\n",
       "      <td>10% FOR THE BIG GUY CHINA 🇨🇳 JOE</td>\n",
       "    </tr>\n",
       "    <tr>\n",
       "      <th>3798</th>\n",
       "      <td>UCSJ_tarrKDCILo1xZBH9T6g</td>\n",
       "      <td>RR 56</td>\n",
       "      <td>UCupvZG-5ko_eiXAupbDfxWw</td>\n",
       "      <td>C-SPAN SWAMP RIGGED CALLS</td>\n",
       "    </tr>\n",
       "    <tr>\n",
       "      <th>3799</th>\n",
       "      <td>UCSJ_tarrKDCILo1xZBH9T6g</td>\n",
       "      <td>RR 56</td>\n",
       "      <td>UCupvZG-5ko_eiXAupbDfxWw</td>\n",
       "      <td>NEVER SAY HUNTER BIDEN LAPTOP FROM HELL ON C-S...</td>\n",
       "    </tr>\n",
       "  </tbody>\n",
       "</table>\n",
       "</div>"
      ],
      "text/plain": [
       "               authorChannelId authorDisplayName                 channelId  \\\n",
       "3781  UCSJ_tarrKDCILo1xZBH9T6g             RR 56  UCupvZG-5ko_eiXAupbDfxWw   \n",
       "3782  UCSJ_tarrKDCILo1xZBH9T6g             RR 56  UCupvZG-5ko_eiXAupbDfxWw   \n",
       "3797  UCSJ_tarrKDCILo1xZBH9T6g             RR 56  UCupvZG-5ko_eiXAupbDfxWw   \n",
       "3798  UCSJ_tarrKDCILo1xZBH9T6g             RR 56  UCupvZG-5ko_eiXAupbDfxWw   \n",
       "3799  UCSJ_tarrKDCILo1xZBH9T6g             RR 56  UCupvZG-5ko_eiXAupbDfxWw   \n",
       "\n",
       "                                           textOriginal  \n",
       "3781  AMERICA 🇺🇸 IS WAITING FOR THE LAPTOP FROM HELL...  \n",
       "3782  HILLARY CLINTON AND THE FBI PAID FOR THE RUSSI...  \n",
       "3797                   10% FOR THE BIG GUY CHINA 🇨🇳 JOE  \n",
       "3798                          C-SPAN SWAMP RIGGED CALLS  \n",
       "3799  NEVER SAY HUNTER BIDEN LAPTOP FROM HELL ON C-S...  "
      ]
     },
     "execution_count": 10,
     "metadata": {},
     "output_type": "execute_result"
    }
   ],
   "source": [
    "comments[1].head(5)"
   ]
  },
  {
   "attachments": {},
   "cell_type": "markdown",
   "metadata": {},
   "source": [
    "### Get the results for comments by inference of our sentiment analysis model"
   ]
  },
  {
   "cell_type": "code",
   "execution_count": 11,
   "metadata": {},
   "outputs": [],
   "source": [
    "sentiment = get_sentiment(data_list=list(comments[0][\"textOriginal\"].values))"
   ]
  },
  {
   "cell_type": "code",
   "execution_count": 13,
   "metadata": {},
   "outputs": [
    {
     "data": {
      "text/plain": [
       "[{'label': 'LABEL_1', 'score': 0.999957799911499},\n",
       " {'label': 'LABEL_1', 'score': 0.9999663829803467},\n",
       " {'label': 'LABEL_1', 'score': 0.9999551773071289},\n",
       " {'label': 'LABEL_1', 'score': 0.989024817943573},\n",
       " {'label': 'LABEL_1', 'score': 0.9995189905166626}]"
      ]
     },
     "execution_count": 13,
     "metadata": {},
     "output_type": "execute_result"
    }
   ],
   "source": [
    "sentiment[:5]"
   ]
  },
  {
   "attachments": {},
   "cell_type": "markdown",
   "metadata": {},
   "source": [
    "### Combine previous three functions and flag the possible trolls"
   ]
  },
  {
   "cell_type": "code",
   "execution_count": 16,
   "metadata": {},
   "outputs": [
    {
     "name": "stdout",
     "output_type": "stream",
     "text": [
      "Channel 1 has 16 negative comments out of 76 total comments\n",
      "=============================================================\n",
      "Channel 2 has 39 negative comments out of 58 total comments\n",
      "Channel has been flagged as a possible troll channel\n",
      "Channel name:  RR 56\n",
      "Number of comments classified as negative:  39\n",
      "Total number of comments:  58\n",
      "Percentage of negative comments:  67.24137931034483 %\n",
      "=============================================================\n",
      "Channel 3 has 32 negative comments out of 40 total comments\n",
      "Channel has been flagged as a possible troll channel\n",
      "Channel name:  Mine-Finder\n",
      "Number of comments classified as negative:  32\n",
      "Total number of comments:  40\n",
      "Percentage of negative comments:  80.0 %\n",
      "=============================================================\n",
      "Channel 4 has 58 negative comments out of 69 total comments\n",
      "Channel has been flagged as a possible troll channel\n",
      "Channel name:  Zak\n",
      "Number of comments classified as negative:  58\n",
      "Total number of comments:  69\n",
      "Percentage of negative comments:  84.05797101449275 %\n",
      "=============================================================\n",
      "Channel 5 has 11 negative comments out of 24 total comments\n",
      "=============================================================\n",
      "Channel 6 has 25 negative comments out of 33 total comments\n",
      "Channel has been flagged as a possible troll channel\n",
      "Channel name:  Dino Steaks\n",
      "Number of comments classified as negative:  25\n",
      "Total number of comments:  33\n",
      "Percentage of negative comments:  75.75757575757575 %\n",
      "=============================================================\n",
      "Channel 7 has 29 negative comments out of 31 total comments\n",
      "Channel has been flagged as a possible troll channel\n",
      "Channel name:  Tyson Ballard\n",
      "Number of comments classified as negative:  29\n",
      "Total number of comments:  31\n",
      "Percentage of negative comments:  93.54838709677419 %\n",
      "=============================================================\n",
      "Channel 8 has 22 negative comments out of 28 total comments\n",
      "Channel has been flagged as a possible troll channel\n",
      "Channel name:  antonio ravello\n",
      "Number of comments classified as negative:  22\n",
      "Total number of comments:  28\n",
      "Percentage of negative comments:  78.57142857142857 %\n",
      "=============================================================\n",
      "Channel 9 has 25 negative comments out of 27 total comments\n",
      "Channel has been flagged as a possible troll channel\n",
      "Channel name:  Oppressed Speaker of truth\n",
      "Number of comments classified as negative:  25\n",
      "Total number of comments:  27\n",
      "Percentage of negative comments:  92.5925925925926 %\n",
      "=============================================================\n",
      "Channel 10 has 27 negative comments out of 40 total comments\n",
      "Channel has been flagged as a possible troll channel\n",
      "Channel name:  Douglas Reagan\n",
      "Number of comments classified as negative:  27\n",
      "Total number of comments:  40\n",
      "Percentage of negative comments:  67.5 %\n",
      "=============================================================\n",
      "Channel 11 has 58 negative comments out of 69 total comments\n",
      "Channel has been flagged as a possible troll channel\n",
      "Channel name:  Zak\n",
      "Number of comments classified as negative:  58\n",
      "Total number of comments:  69\n",
      "Percentage of negative comments:  84.05797101449275 %\n",
      "=============================================================\n",
      "Channel 12 has 31 negative comments out of 40 total comments\n",
      "Channel has been flagged as a possible troll channel\n",
      "Channel name:  Divided WEFALL\n",
      "Number of comments classified as negative:  31\n",
      "Total number of comments:  40\n",
      "Percentage of negative comments:  77.5 %\n",
      "=============================================================\n",
      "Channel 13 has 31 negative comments out of 36 total comments\n",
      "Channel has been flagged as a possible troll channel\n",
      "Channel name:  TONYTOM LEONARDOVACA\n",
      "Number of comments classified as negative:  31\n",
      "Total number of comments:  36\n",
      "Percentage of negative comments:  86.11111111111111 %\n",
      "=============================================================\n",
      "Channel 14 has 23 negative comments out of 30 total comments\n",
      "Channel has been flagged as a possible troll channel\n",
      "Channel name:  ASHLEY JANSIXMARTYR\n",
      "Number of comments classified as negative:  23\n",
      "Total number of comments:  30\n",
      "Percentage of negative comments:  76.66666666666667 %\n",
      "=============================================================\n",
      "Channel 15 has 22 negative comments out of 28 total comments\n",
      "Channel has been flagged as a possible troll channel\n",
      "Channel name:  Matt Foley\n",
      "Number of comments classified as negative:  22\n",
      "Total number of comments:  28\n",
      "Percentage of negative comments:  78.57142857142857 %\n",
      "=============================================================\n"
     ]
    }
   ],
   "source": [
    "trolls = flag_trolls(df)"
   ]
  },
  {
   "cell_type": "code",
   "execution_count": 17,
   "metadata": {},
   "outputs": [
    {
     "name": "stdout",
     "output_type": "stream",
     "text": [
      "['RR 56', 'Mine-Finder', 'Zak', 'Dino Steaks', 'Tyson Ballard', 'antonio ravello', 'Oppressed Speaker of truth', 'Douglas Reagan', 'Zak', 'Divided WEFALL', 'TONYTOM LEONARDOVACA', 'ASHLEY JANSIXMARTYR', 'Matt Foley']\n"
     ]
    }
   ],
   "source": [
    "print(trolls)"
   ]
  }
 ],
 "metadata": {
  "kernelspec": {
   "display_name": ".env",
   "language": "python",
   "name": "python3"
  },
  "language_info": {
   "codemirror_mode": {
    "name": "ipython",
    "version": 3
   },
   "file_extension": ".py",
   "mimetype": "text/x-python",
   "name": "python",
   "nbconvert_exporter": "python",
   "pygments_lexer": "ipython3",
   "version": "3.10.8"
  },
  "orig_nbformat": 4,
  "vscode": {
   "interpreter": {
    "hash": "14d08c44a76cd0a64b3be8bb725e8d988cdf4458aba773179dcea4d64cdf85b6"
   }
  }
 },
 "nbformat": 4,
 "nbformat_minor": 2
}
